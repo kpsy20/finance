{
 "cells": [
  {
   "cell_type": "code",
   "execution_count": 1,
   "metadata": {},
   "outputs": [],
   "source": [
    "import pandas as pd\n",
    "# 과학적 표기 안하도록\n",
    "pd.options.display.float_format = '{:.2f}'.format\n",
    "\n",
    "import numpy as np\n",
    "import datetime"
   ]
  },
  {
   "cell_type": "markdown",
   "metadata": {},
   "source": [
    "---\n",
    "### 증감 결과 확인을 위한 함수"
   ]
  },
  {
   "cell_type": "code",
   "execution_count": 2,
   "metadata": {},
   "outputs": [],
   "source": [
    "def increasing(col):\n",
    "    for i in range(len(col)):\n",
    "        if(i == 0):\n",
    "            temp = col[i]\n",
    "        else:\n",
    "            if(temp > col[i]):\n",
    "                return 0\n",
    "            temp = col[i]\n",
    "    return 1 \n",
    "\n",
    "def decreasing(col):\n",
    "    for i in range(len(col)):\n",
    "        if(i==0):\n",
    "            temp = col[i]\n",
    "        else:\n",
    "            if(temp < col[i]):\n",
    "                return 0\n",
    "            temp = col[i]\n",
    "    return 1"
   ]
  },
  {
   "cell_type": "markdown",
   "metadata": {},
   "source": [
    "---\n",
    "### request+bs로 크롤링\n"
   ]
  },
  {
   "cell_type": "code",
   "execution_count": 3,
   "metadata": {},
   "outputs": [],
   "source": [
    "import requests\n",
    "from bs4 import BeautifulSoup as bs"
   ]
  },
  {
   "cell_type": "code",
   "execution_count": 32,
   "metadata": {},
   "outputs": [],
   "source": [
    "# code로 접근 가능한 url\n",
    "code_url = \"https://finance.naver.com/item/main.nhn?code=\"\n",
    "# 종목 분석 url\n",
    "coinfo_url = \"https://finance.naver.com/item/coinfo.nhn?code=\"\n",
    "# 종목 분석 url (!naver)\n",
    "coinfo_url_2 = \"https://navercomp.wisereport.co.kr/v2/company/c1050001.aspx?cmp_cd=%s&cn=\"\n",
    "# 시가총액 목록 url\n",
    "size_market_url_0 = \"https://finance.naver.com/sise/sise_market_sum.nhn?sosok=0&page=\"\n",
    "\n",
    "size_market_url_1 = \"https://finance.naver.com/sise/sise_market_sum.nhn?sosok=1&page=\""
   ]
  },
  {
   "cell_type": "code",
   "execution_count": 33,
   "metadata": {},
   "outputs": [],
   "source": [
    "# 오늘의 시가총액 상위 400 code 목록 구하기\n",
    "\n",
    "codeL = []\n",
    "# 코스피 상위 300\n",
    "for i in range(1,7):\n",
    "    soup = bs(requests.get(size_market_url_0+str(i)).text, 'html.parser')\n",
    "    tempL = [x.attrs[\"href\"].split(\"code=\")[1] for x in soup.select(\"table \")[1].select_one(\"tbody\").select(\"a.tltle\")]\n",
    "    codeL += tempL\n",
    "# 코스닥 상위 100\n",
    "for i in range(1, 3):\n",
    "    soup = bs(requests.get(size_market_url_1+str(i)).text, 'html.parser')\n",
    "    tempL = [x.attrs[\"href\"].split(\"code=\")[1] for x in soup.select(\"table \")[1].select_one(\"tbody\").select(\"a.tltle\")]\n",
    "    codeL += tempL\n",
    "             "
   ]
  },
  {
   "cell_type": "code",
   "execution_count": 42,
   "metadata": {},
   "outputs": [],
   "source": [
    "# soup = bs(requests.get(size_market_url_0+str(2)).text, 'html.parser')\n",
    "# tempL = [x.attrs[\"href\"].split(\"code=\")[1] for x in soup.select(\"table \")[1].select_one(\"tbody\").select(\"a.tltle\")]\n",
    "# soup.select(\"table \")[1].select_one(\"tbody\").select(\"a.tltle\")"
   ]
  },
  {
   "cell_type": "code",
   "execution_count": 43,
   "metadata": {},
   "outputs": [],
   "source": [
    "# 오늘의 시가총액 code 목록 저장 \n",
    "todayDate = datetime.datetime.now().strftime(\"%Y_%b_%d\")\n",
    "f = open(\"./\"+todayDate+\"_시가총액_상위권.txt\", 'w')\n",
    "f.write(\"\\n\".join(codeL))\n",
    "f.close()\n",
    "\n",
    "# 오늘의 시가총액 code 목록 불러오기\n",
    "useDate = \"2020_Feb_18\"\n",
    "f = open(\"./\"+useDate+\"_시가총액_상위권.txt\", \"r\")\n",
    "codeL = [x.replace(\"\\n\", \"\") for x in f.readlines()]\n",
    "f.close()"
   ]
  },
  {
   "cell_type": "markdown",
   "metadata": {},
   "source": [
    "---\n",
    "\n",
    "### 컨센서스 확인 함수"
   ]
  },
  {
   "cell_type": "code",
   "execution_count": 44,
   "metadata": {},
   "outputs": [
    {
     "data": {
      "text/plain": [
       "'현대차2우B'"
      ]
     },
     "execution_count": 44,
     "metadata": {},
     "output_type": "execute_result"
    }
   ],
   "source": [
    "# 종목 이름 얻기\n",
    "code = \"005387\"\n",
    "soup = bs(requests.get(code_url + code).text, 'html.parser')\n",
    "name = soup.select_one(\"#middle > div.h_company > div.wrap_company > h2 > a\").text\n",
    "name"
   ]
  },
  {
   "cell_type": "code",
   "execution_count": 56,
   "metadata": {},
   "outputs": [],
   "source": [
    "def Consensus(code, score25, score23, score20):\n",
    "    code = str(code)\n",
    "        \n",
    "    # 종목 이름 얻기\n",
    "    soup = bs(requests.get(code_url + code).text, 'html.parser')\n",
    "    name = soup.select_one(\"#middle > div.h_company > div.wrap_company > h2 > a\").text\n",
    "    \n",
    "    # 컨센서스 테이블 구축\n",
    "    consenUrl = \"https://navercomp.wisereport.co.kr/company/ajax/c1050001_data.aspx?flag=2&cmp_cd=\"\\\n",
    "                + code + \"&finGubun=MAIN&frq=0&chartType=svg\"\n",
    "    \n",
    "    # 컨센서스 없는 경우 1\n",
    "    if(requests.get(consenUrl).json()[\"JsonData\"] == []):\n",
    "        return \n",
    "    df_table = pd.DataFrame(requests.get(consenUrl).json()[\"JsonData\"]).iloc[:, :-1]\n",
    "\n",
    "    # 매출액 ~ EV/EBITDA 숫자형으로 변경\n",
    "    df_table.iloc[:, 1:-1] = df_table.iloc[:,1:-1].applymap(lambda x: \"0\" if x == \"\" else x).applymap(lambda x: float(x.replace(\",\",\"\")))\n",
    "    \n",
    "    # 컨센서스 없는 경우 2\n",
    "    if(df_table.iloc[:, 1:-1].sum().sum() == 0):\n",
    "        return\n",
    "    \n",
    "    # 증감 결과 df table로 확인\n",
    "    result_row = [0]*12\n",
    "    for inc in [1, 2, 3, 4, 5, 6, 9]:\n",
    "        if(increasing(df_table.iloc[:, inc])):\n",
    "            result_row[inc] = 1\n",
    "    for dec in [7, 8, 10]:\n",
    "        if(decreasing(df_table.iloc[:, dec])):\n",
    "            result_row[dec] = 1\n",
    "\n",
    "#     result_df = pd.DataFrame([result_row], columns = df_table.columns)\n",
    "#     df_table.append(result_df, ignore_index = True)\n",
    "    \n",
    "    # 증감 결과 매출액 / 영업이익 / per * 10 roe * 5\n",
    "    formula = [0,10,1,10,1,1,1,10,1,5,1,0]\n",
    "    score = np.dot(result_row,formula)\n",
    "\n",
    "    # 점수 결과\n",
    "    return [code, name, str(score)]\n"
   ]
  },
  {
   "cell_type": "markdown",
   "metadata": {},
   "source": [
    "---\n",
    "\n",
    "## 시가총액 상위 400개의 컨센서스 확인"
   ]
  },
  {
   "cell_type": "code",
   "execution_count": 57,
   "metadata": {
    "scrolled": false
   },
   "outputs": [
    {
     "name": "stdout",
     "output_type": "stream",
     "text": [
      "99\n",
      "199\n",
      "299\n",
      "399\n"
     ]
    }
   ],
   "source": [
    "score25 = []\n",
    "score23 = [] \n",
    "score20 = []\n",
    "for i in range(400):\n",
    "    if(i % 100 == 99):\n",
    "        print(i)\n",
    "    \n",
    "    result = Consensus(codeL[i], score25, score23, score20)\n",
    "    if(result):\n",
    "        if(int(result[2]) >= 25):\n",
    "            score25.append(\" \".join(result))\n",
    "        elif(int(result[2]) >= 23):\n",
    "            score23.append(\" \".join(result))\n",
    "        elif(int(result[2]) >= 20):\n",
    "            score20.append(\" \".join(result))\n",
    "    "
   ]
  },
  {
   "cell_type": "code",
   "execution_count": 58,
   "metadata": {},
   "outputs": [
    {
     "data": {
      "text/plain": [
       "['280360 롯데제과 27',\n",
       " '336370 두산솔루스 28',\n",
       " '005180 빙그레 28',\n",
       " '336260 두산퓨얼셀 29',\n",
       " '033290 코웰패션 33']"
      ]
     },
     "execution_count": 58,
     "metadata": {},
     "output_type": "execute_result"
    }
   ],
   "source": [
    "score25"
   ]
  },
  {
   "cell_type": "code",
   "execution_count": 59,
   "metadata": {},
   "outputs": [
    {
     "data": {
      "text/plain": [
       "['051900 LG생활건강 23',\n",
       " '018260 삼성에스디에스 23',\n",
       " '316140 우리금융지주 24',\n",
       " '271560 오리온 23',\n",
       " '012510 더존비즈온 23',\n",
       " '284740 쿠쿠홈시스 23',\n",
       " '298020 효성티앤씨 23',\n",
       " '003230 삼양식품 23',\n",
       " '058470 리노공업 23',\n",
       " '030190 NICE평가정보 23',\n",
       " '035900 JYP Ent. 23',\n",
       " '064760 티씨케이 23',\n",
       " '200130 콜마비앤에이치 23',\n",
       " '067160 아프리카TV 23',\n",
       " '060250 NHN한국사이버결제 23',\n",
       " '267980 매일유업 23',\n",
       " '272290 이녹스첨단소재 23']"
      ]
     },
     "execution_count": 59,
     "metadata": {},
     "output_type": "execute_result"
    }
   ],
   "source": [
    "score23"
   ]
  },
  {
   "cell_type": "code",
   "execution_count": 60,
   "metadata": {},
   "outputs": [
    {
     "data": {
      "text/plain": [
       "['000120 CJ대한통운 21',\n",
       " '282330 BGF리테일 21',\n",
       " '001040 CJ 21',\n",
       " '030000 제일기획 22',\n",
       " '007310 오뚜기 21',\n",
       " '181710 NHN 21',\n",
       " '009420 한올바이오파마 21',\n",
       " '192080 더블유게임즈 21',\n",
       " '286940 롯데정보통신 21',\n",
       " '145720 덴티움 21',\n",
       " '298050 효성첨단소재 21',\n",
       " '253450 스튜디오드래곤 21',\n",
       " '036830 솔브레인 21',\n",
       " '086450 동국제약 21',\n",
       " '044340 위닉스 22',\n",
       " '230240 에치에프알 21']"
      ]
     },
     "execution_count": 60,
     "metadata": {},
     "output_type": "execute_result"
    }
   ],
   "source": [
    "score20"
   ]
  },
  {
   "cell_type": "markdown",
   "metadata": {},
   "source": [
    "---\n",
    "\n",
    "#### 오늘의 점수 저장"
   ]
  },
  {
   "cell_type": "code",
   "execution_count": 63,
   "metadata": {},
   "outputs": [],
   "source": [
    "score25_code = [x.split()[0] for x in score25]\n",
    "score23_code = [x.split()[0] for x in score23]\n",
    "score20_code = [x.split()[0] for x in score20]"
   ]
  },
  {
   "cell_type": "code",
   "execution_count": 64,
   "metadata": {},
   "outputs": [],
   "source": [
    "# 오늘의 socre 저장 \n",
    "todayDate = datetime.datetime.now().strftime(\"%Y_%b_%d\")\n",
    "f = open(\"./scoreData/\"+todayDate+\"_SCORE>=25.txt\", 'w')\n",
    "f.write(\"\\n\".join(score25_code))\n",
    "f.close()\n",
    "\n",
    "f = open(\"./scoreData/\"+todayDate+\"_SCORE>=23.txt\", 'w')\n",
    "f.write(\"\\n\".join(score23_code))\n",
    "f.close()\n",
    "\n",
    "f = open(\"./scoreData/\"+todayDate+\"_SCORE>=20.txt\", 'w')\n",
    "f.write(\"\\n\".join(score20_code))\n",
    "f.close()"
   ]
  },
  {
   "cell_type": "code",
   "execution_count": 12,
   "metadata": {},
   "outputs": [],
   "source": [
    "todayDate = datetime.datetime.now().strftime(\"%Y_%b_%d\")\n"
   ]
  },
  {
   "cell_type": "code",
   "execution_count": 13,
   "metadata": {},
   "outputs": [
    {
     "data": {
      "text/plain": [
       "'2020_Feb_19'"
      ]
     },
     "execution_count": 13,
     "metadata": {},
     "output_type": "execute_result"
    }
   ],
   "source": [
    "todayDate\n"
   ]
  },
  {
   "cell_type": "code",
   "execution_count": 14,
   "metadata": {},
   "outputs": [],
   "source": [
    "# 오늘의 socre 불러오기\n",
    "todayDate = datetime.datetime.now().strftime(\"%Y_%b_%d\")\n",
    "todayDate = \"2020_Feb_18\"\n",
    "\n",
    "f = open(\"./scoreData/\"+todayDate+\"_SCORE>=25.txt\", 'r')\n",
    "score25_code = [x.replace(\"\\n\", \"\") for x in f.readlines()]\n",
    "f.close()\n",
    "\n",
    "f = open(\"./scoreData/\"+todayDate+\"_SCORE>=23.txt\", 'r')\n",
    "score23_code = [x.replace(\"\\n\", \"\") for x in f.readlines()]\n",
    "f.close()\n",
    "\n",
    "f = open(\"./scoreData/\"+todayDate+\"_SCORE>=20.txt\", 'r')\n",
    "score20_code = [x.replace(\"\\n\", \"\") for x in f.readlines()]\n",
    "f.close()"
   ]
  },
  {
   "cell_type": "markdown",
   "metadata": {},
   "source": [
    "---\n",
    "\n",
    "## 나의 네이버증권 셋팅하기"
   ]
  },
  {
   "cell_type": "code",
   "execution_count": 49,
   "metadata": {},
   "outputs": [],
   "source": [
    "from selenium import webdriver\n",
    "from selenium.webdriver.common.alert import Alert\n",
    "from selenium.webdriver.common.keys import Keys\n",
    "\n",
    "from selenium.webdriver.common.by import By\n",
    "from selenium.webdriver.support.ui import WebDriverWait\n",
    "from selenium.webdriver.support import expected_conditions as EC\n",
    "\n",
    "import time"
   ]
  },
  {
   "cell_type": "code",
   "execution_count": 50,
   "metadata": {},
   "outputs": [],
   "source": [
    "# 미리 로그인\n",
    "driver = webdriver.Chrome('./chromedriver')\n",
    "itemListUrl = \"https://finance.naver.com/mystock/itemList.nhn?groupId=6&type=OVERALL\"\n",
    "driver.get(itemListUrl)"
   ]
  },
  {
   "cell_type": "code",
   "execution_count": 55,
   "metadata": {},
   "outputs": [
    {
     "name": "stdout",
     "output_type": "stream",
     "text": [
      "['280360', '336370', '005180', '336260', '033290']\n",
      "['051900', '018260', '316140', '271560', '012510', '284740', '298020', '003230', '058470', '030190', '035900', '064760', '200130', '067160', '060250', '267980', '272290']\n",
      "['000120', '282330', '001040', '030000', '007310', '181710', '009420', '192080', '286940', '145720', '298050', '253450', '036830', '086450', '044340', '230240']\n"
     ]
    }
   ],
   "source": [
    "for group in range(6, 9):\n",
    "\n",
    "    # 링크 접속 및 로그인\n",
    "    itemListUrl = \"https://finance.naver.com/mystock/itemList.nhn?groupId=%s&type=OVERALL\" % str(group)\n",
    "\n",
    "    # 기존 관심 종목 삭제\n",
    "    driver.get(itemListUrl)\n",
    "    time.sleep(0.5)\n",
    "    driver.find_element_by_css_selector(\"#all_select\").click()\n",
    "    time.sleep(0.5)\n",
    "    driver.find_element_by_css_selector(\"#wrap > div.section_mys > div.group_mystb.NE\\=a\\:lst > div:nth-child(2) > button.btn_del.NPI\\=a\\:del\").click()\n",
    "    time.sleep(0.5)\n",
    "    Alert(driver).accept()\n",
    "    \n",
    "    # 적합 종목 리스트 찾기\n",
    "    if(group == 6):\n",
    "        useL = score25_code.copy()\n",
    "    elif(group == 7):\n",
    "        useL = score23_code.copy()\n",
    "    elif(group == 8):\n",
    "        useL = score20_code.copy()\n",
    "            \n",
    "    # 관심종목 목록 등록\n",
    "    for nowCode in useL:\n",
    "        time.sleep(0.5)\n",
    "        driver.find_element_by_css_selector(\"#mystock_input\").clear()\n",
    "        time.sleep(0.5)\n",
    "        driver.find_element_by_css_selector(\"#mystock_input\").send_keys(nowCode)\n",
    "        driver.find_element_by_css_selector(\"#mystock_input\").send_keys(Keys.RETURN)\n"
   ]
  },
  {
   "cell_type": "code",
   "execution_count": null,
   "metadata": {},
   "outputs": [],
   "source": []
  }
 ],
 "metadata": {
  "kernelspec": {
   "display_name": "finance",
   "language": "python",
   "name": "finanace"
  },
  "language_info": {
   "codemirror_mode": {
    "name": "ipython",
    "version": 3
   },
   "file_extension": ".py",
   "mimetype": "text/x-python",
   "name": "python",
   "nbconvert_exporter": "python",
   "pygments_lexer": "ipython3",
   "version": "3.7.3"
  }
 },
 "nbformat": 4,
 "nbformat_minor": 4
}
