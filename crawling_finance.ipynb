{
 "cells": [
  {
   "cell_type": "code",
   "execution_count": 4,
   "metadata": {},
   "outputs": [],
   "source": [
    "import pandas as pd\n",
    "# 과학적 표기 안하도록\n",
    "pd.options.display.float_format = '{:.2f}'.format\n",
    "\n",
    "import numpy as np\n",
    "import datetime"
   ]
  },
  {
   "cell_type": "markdown",
   "metadata": {},
   "source": [
    "---\n",
    "### request+bs로 크롤링\n"
   ]
  },
  {
   "cell_type": "code",
   "execution_count": 7,
   "metadata": {},
   "outputs": [],
   "source": [
    "import requests\n",
    "from bs4 import BeautifulSoup as bs"
   ]
  },
  {
   "cell_type": "code",
   "execution_count": 8,
   "metadata": {},
   "outputs": [],
   "source": [
    "# code로 접근 가능한 url\n",
    "code_url = \"https://finance.naver.com/item/main.nhn?code=\"\n",
    "# 종목 분석 url\n",
    "coinfo_url = \"https://finance.naver.com/item/coinfo.nhn?code=\"\n",
    "# 종목 분석 url (!naver)\n",
    "coinfo_url_2 = \"https://navercomp.wisereport.co.kr/v2/company/c1050001.aspx?cmp_cd=%s&cn=\"\n",
    "# 시가총액 목록 url\n",
    "size_market_url_0 = \"https://finance.naver.com/sise/sise_market_sum.nhn?sosok=0&page=\"\n",
    "size_market_url_1 = \"https://finance.naver.com/sise/sise_market_sum.nhn?sosok=1&page=\""
   ]
  },
  {
   "cell_type": "markdown",
   "metadata": {},
   "source": [
    "---\n",
    "\n",
    "### 시가총액 목록 사용하기"
   ]
  },
  {
   "cell_type": "code",
   "execution_count": null,
   "metadata": {},
   "outputs": [],
   "source": [
    "# 오늘의 시가총액 상위 400 code 목록 구하기\n",
    "\n",
    "codeL = []\n",
    "# 코스피 상위 300\n",
    "for i in range(1,7):\n",
    "    soup = bs(requests.get(size_market_url_0+str(i)).text, 'html.parser')\n",
    "    tempL = [x.attrs[\"href\"].split(\"code=\")[1] for x in soup.select(\"table \")[1].select_one(\"tbody\").select(\"a.tltle\")]\n",
    "    codeL += tempL\n",
    "# 코스닥 상위 100\n",
    "for i in range(1, 3):\n",
    "    soup = bs(requests.get(size_market_url_1+str(i)).text, 'html.parser')\n",
    "    tempL = [x.attrs[\"href\"].split(\"code=\")[1] for x in soup.select(\"table \")[1].select_one(\"tbody\").select(\"a.tltle\")]\n",
    "    codeL += tempL"
   ]
  },
  {
   "cell_type": "code",
   "execution_count": 7,
   "metadata": {},
   "outputs": [],
   "source": [
    "# 오늘의 시가총액 code 목록 저장 \n",
    "todayDate = datetime.datetime.now().strftime(\"%Y_%b_%d\")\n",
    "f = open(\"./\"+todayDate+\"_시가총액_상위권.txt\", 'w')\n",
    "f.write(\"\\n\".join(codeL))\n",
    "f.close()\n",
    "\n",
    "# 오늘의 시가총액 code 목록 불러오기\n",
    "useDate = \"2020_Feb_18\"\n",
    "f = open(\"./\"+useDate+\"_시가총액_상위권.txt\", \"r\")\n",
    "codeL = [x.replace(\"\\n\", \"\") for x in f.readlines()]\n",
    "f.close()"
   ]
  },
  {
   "cell_type": "markdown",
   "metadata": {},
   "source": [
    "----\n",
    "\n",
    "##### 테마별 업종 목록 사용하기"
   ]
  },
  {
   "cell_type": "code",
   "execution_count": 8,
   "metadata": {},
   "outputs": [],
   "source": [
    "# 테마\n",
    "# theme_no = 14\n",
    "# theme_url = \"https://finance.naver.com/sise/sise_group_detail.nhn?type=theme&no=\"\n",
    "# soup = bs(requests.get(theme_url + str(theme_no)).text, 'html.parser')\n",
    "# codeL = [x.select_one(\"a\").attrs[\"href\"].split(\"code=\")[1] for x in soup.select(\"table\")[2].select(\"div.name_area\")]"
   ]
  },
  {
   "cell_type": "markdown",
   "metadata": {},
   "source": [
    "---\n",
    "\n",
    "### 컨센서스 확인 함수"
   ]
  },
  {
   "cell_type": "code",
   "execution_count": 9,
   "metadata": {},
   "outputs": [],
   "source": [
    "def getName(code):\n",
    "    code_url = \"https://finance.naver.com/item/main.nhn?code=\"\n",
    "    soup = bs(requests.get(code_url + code).text, 'html.parser')\n",
    "    name = soup.select_one(\"#middle > div.h_company > div.wrap_company > h2 > a\").text\n",
    "    return name"
   ]
  },
  {
   "cell_type": "code",
   "execution_count": 10,
   "metadata": {},
   "outputs": [],
   "source": [
    "def getPER(code):\n",
    "    code_url = \"https://finance.naver.com/item/main.nhn?code=\"\n",
    "    soup = bs(requests.get(code_url + code).text, 'html.parser')\n",
    "    try:\n",
    "        myPer = soup.select_one(\"table.per_table\").select_one(\"td\").select_one(\"em\").text\n",
    "        avgPer = soup.select(\"tr.strong > td > em\")[-1].text\n",
    "    except:\n",
    "        myPer = 0\n",
    "        avgPer = 0\n",
    "        return myPer, avgPer\n",
    "    if(myPer == \"N/A\"):\n",
    "        myPer = 0\n",
    "    if(avgPer == \"N/A\"):\n",
    "        avgPer = 0\n",
    "    return myPer, avgPer"
   ]
  },
  {
   "cell_type": "code",
   "execution_count": 11,
   "metadata": {},
   "outputs": [],
   "source": [
    "def Consensus(code, score25, score23, score20):\n",
    "    code = str(code)\n",
    "    code_url = \"https://finance.naver.com/item/main.nhn?code=\"\n",
    "        \n",
    "    # 종목 이름 얻기\n",
    "    name = getName(code)\n",
    "    \n",
    "    # 컨센서스 테이블 구축\n",
    "    consenUrl = \"https://navercomp.wisereport.co.kr/company/ajax/c1050001_data.aspx?flag=2&cmp_cd=\"\\\n",
    "                + code + \"&finGubun=MAIN&frq=0&chartType=svg\"\n",
    "    \n",
    "    # 컨센서스 없는 경우 1\n",
    "    if(requests.get(consenUrl).json()[\"JsonData\"] == []):\n",
    "        return \n",
    "    df_table = pd.DataFrame(requests.get(consenUrl).json()[\"JsonData\"]).iloc[:, :-1]\n",
    "\n",
    "    # 매출액 ~ EV/EBITDA 숫자형으로 변경\n",
    "    df_table.iloc[:, 1:-1] = df_table.iloc[:,1:-1].applymap(lambda x: \"0\" if x == \"\" else x).applymap(lambda x: float(x.replace(\",\",\"\")))\n",
    "    \n",
    "    # 컨센서스 없는 경우 2\n",
    "    if(df_table.iloc[:, 1:-1].sum().sum() == 0):\n",
    "        return\n",
    "    \n",
    "    # 증감 결과 df table로 확인\n",
    "    result_row = [0]*12\n",
    "    for inc in [1, 2, 3, 4, 5, 6, 9]:\n",
    "        if(increasing(df_table.iloc[:, inc])):\n",
    "            result_row[inc] = 1\n",
    "    for dec in [7, 8, 10]:\n",
    "        if(decreasing(df_table.iloc[:, dec])):\n",
    "            result_row[dec] = 1\n",
    "\n",
    "#     result_df = pd.DataFrame([result_row], columns = df_table.columns)\n",
    "#     df_table.append(result_df, ignore_index = True)\n",
    "    \n",
    "    # 증감 결과 매출액 / 영업이익 / per * 10 roe * 5\n",
    "    formula = [0,10,1,10,1,1,1,10,1,5,1,0]\n",
    "    score = np.dot(result_row,formula)\n",
    "\n",
    "    # 점수 결과\n",
    "    return [code, name, str(score)]\n"
   ]
  },
  {
   "cell_type": "markdown",
   "metadata": {},
   "source": [
    "---\n",
    "\n",
    "## 시가총액 상위 400개의 컨센서스 확인"
   ]
  },
  {
   "cell_type": "code",
   "execution_count": 12,
   "metadata": {
    "scrolled": false
   },
   "outputs": [
    {
     "name": "stdout",
     "output_type": "stream",
     "text": [
      "99\n",
      "199\n",
      "299\n",
      "399\n"
     ]
    }
   ],
   "source": [
    "score25 = []\n",
    "score23 = [] \n",
    "score20 = []\n",
    "for i in range(len(codeL)):\n",
    "    if(i % 100 == 99):\n",
    "        print(i)\n",
    "        \n",
    "    # per 확인\n",
    "    myPer, avgPer = getPER(codeL[i])\n",
    "    if(myPer == 0 or avgPer == 0):\n",
    "        continue\n",
    "    if(float(myPer.replace(\",\",\"\")) > float(avgPer.replace(\",\",\"\"))):\n",
    "        continue\n",
    "    \n",
    "    result = Consensus(codeL[i], score25, score23, score20)\n",
    "    if(result):\n",
    "        if(int(result[2]) >= 25):\n",
    "            score25.append(\" \".join(result))\n",
    "        elif(int(result[2]) >= 23):\n",
    "            score23.append(\" \".join(result))\n",
    "        elif(int(result[2]) >= 20):\n",
    "            score20.append(\" \".join(result))\n",
    "    "
   ]
  },
  {
   "cell_type": "code",
   "execution_count": 13,
   "metadata": {},
   "outputs": [
    {
     "data": {
      "text/plain": [
       "['033290 코웰패션 33']"
      ]
     },
     "execution_count": 13,
     "metadata": {},
     "output_type": "execute_result"
    }
   ],
   "source": [
    "score25"
   ]
  },
  {
   "cell_type": "code",
   "execution_count": 14,
   "metadata": {},
   "outputs": [
    {
     "data": {
      "text/plain": [
       "['051900 LG생활건강 23',\n",
       " '012510 더존비즈온 23',\n",
       " '003230 삼양식품 23',\n",
       " '030190 NICE평가정보 23',\n",
       " '035900 JYP Ent. 23',\n",
       " '067160 아프리카TV 23',\n",
       " '267980 매일유업 23',\n",
       " '215200 메가스터디교육 23',\n",
       " '272290 이녹스첨단소재 23']"
      ]
     },
     "execution_count": 14,
     "metadata": {},
     "output_type": "execute_result"
    }
   ],
   "source": [
    "score23"
   ]
  },
  {
   "cell_type": "code",
   "execution_count": 15,
   "metadata": {},
   "outputs": [
    {
     "data": {
      "text/plain": [
       "['004170 신세계 22',\n",
       " '111770 영원무역 20',\n",
       " '192080 더블유게임즈 21',\n",
       " '286940 롯데정보통신 21',\n",
       " '145720 덴티움 21',\n",
       " '253450 스튜디오드래곤 21',\n",
       " '036830 솔브레인 21']"
      ]
     },
     "execution_count": 15,
     "metadata": {},
     "output_type": "execute_result"
    }
   ],
   "source": [
    "score20"
   ]
  },
  {
   "cell_type": "markdown",
   "metadata": {},
   "source": [
    "---\n",
    "\n",
    "#### 오늘의 점수 저장"
   ]
  },
  {
   "cell_type": "code",
   "execution_count": 63,
   "metadata": {},
   "outputs": [],
   "source": [
    "score25_code = [x.split()[0] for x in score25]\n",
    "score23_code = [x.split()[0] for x in score23]\n",
    "score20_code = [x.split()[0] for x in score20]"
   ]
  },
  {
   "cell_type": "code",
   "execution_count": 64,
   "metadata": {},
   "outputs": [],
   "source": [
    "# 오늘의 socre 저장 \n",
    "todayDate = datetime.datetime.now().strftime(\"%Y_%b_%d\")\n",
    "f = open(\"./scoreData/\"+todayDate+\"_SCORE>=25.txt\", 'w')\n",
    "f.write(\"\\n\".join(score25_code))\n",
    "f.close()\n",
    "\n",
    "f = open(\"./scoreData/\"+todayDate+\"_SCORE>=23.txt\", 'w')\n",
    "f.write(\"\\n\".join(score23_code))\n",
    "f.close()\n",
    "\n",
    "f = open(\"./scoreData/\"+todayDate+\"_SCORE>=20.txt\", 'w')\n",
    "f.write(\"\\n\".join(score20_code))\n",
    "f.close()"
   ]
  },
  {
   "cell_type": "code",
   "execution_count": 12,
   "metadata": {},
   "outputs": [],
   "source": [
    "todayDate = datetime.datetime.now().strftime(\"%Y_%b_%d\")\n"
   ]
  },
  {
   "cell_type": "code",
   "execution_count": 13,
   "metadata": {},
   "outputs": [
    {
     "data": {
      "text/plain": [
       "'2020_Feb_19'"
      ]
     },
     "execution_count": 13,
     "metadata": {},
     "output_type": "execute_result"
    }
   ],
   "source": [
    "todayDate\n"
   ]
  },
  {
   "cell_type": "code",
   "execution_count": 12,
   "metadata": {},
   "outputs": [],
   "source": [
    "# 오늘의 socre 불러오기\n",
    "todayDate = datetime.datetime.now().strftime(\"%Y_%b_%d\")\n",
    "todayDate = \"2020_Feb_18\"\n",
    "\n",
    "f = open(\"./scoreData/\"+todayDate+\"_SCORE>=25.txt\", 'r')\n",
    "score25_code = [x.replace(\"\\n\", \"\") for x in f.readlines()]\n",
    "f.close()\n",
    "\n",
    "f = open(\"./scoreData/\"+todayDate+\"_SCORE>=23.txt\", 'r')\n",
    "score23_code = [x.replace(\"\\n\", \"\") for x in f.readlines()]\n",
    "f.close()\n",
    "\n",
    "f = open(\"./scoreData/\"+todayDate+\"_SCORE>=20.txt\", 'r')\n",
    "score20_code = [x.replace(\"\\n\", \"\") for x in f.readlines()]\n",
    "f.close()"
   ]
  },
  {
   "cell_type": "markdown",
   "metadata": {},
   "source": [
    "---\n",
    "\n",
    "## 나의 네이버증권 셋팅하기"
   ]
  },
  {
   "cell_type": "code",
   "execution_count": 13,
   "metadata": {},
   "outputs": [],
   "source": [
    "from selenium import webdriver\n",
    "from selenium.webdriver.common.alert import Alert\n",
    "from selenium.webdriver.common.keys import Keys\n",
    "\n",
    "import time"
   ]
  },
  {
   "cell_type": "code",
   "execution_count": 14,
   "metadata": {},
   "outputs": [],
   "source": [
    "# 미리 로그인\n",
    "driver = webdriver.Chrome('./chromedriver')\n",
    "itemListUrl = \"https://finance.naver.com/mystock/itemList.nhn?groupId=6&type=OVERALL\"\n",
    "driver.get(itemListUrl)"
   ]
  },
  {
   "cell_type": "code",
   "execution_count": 16,
   "metadata": {},
   "outputs": [
    {
     "name": "stdout",
     "output_type": "stream",
     "text": [
      "https://finance.naver.com/mystock/itemList.nhn?groupId=6&type=OVERALL\n",
      "https://finance.naver.com/mystock/itemList.nhn?groupId=7&type=OVERALL\n",
      "https://finance.naver.com/mystock/itemList.nhn?groupId=8&type=OVERALL\n"
     ]
    }
   ],
   "source": [
    "for group in range(6, 9):\n",
    "\n",
    "    # 링크 접속 및 로그인\n",
    "    itemListUrl = \"https://finance.naver.com/mystock/itemList.nhn?groupId=%s&type=OVERALL\" % str(group)\n",
    "    print(itemListUrl )\n",
    "    \n",
    "    # 기존 관심 종목 삭제\n",
    "    time.sleep(0.5)\n",
    "    driver.get(itemListUrl)\n",
    "    time.sleep(0.5)\n",
    "    driver.find_element_by_css_selector(\"#all_select\").click()\n",
    "    time.sleep(0.5)\n",
    "    driver.find_element_by_css_selector(\"#wrap > div.section_mys > div.group_mystb.NE\\=a\\:lst > div:nth-child(2) > button.btn_del.NPI\\=a\\:del\").click()\n",
    "    time.sleep(0.5)\n",
    "    Alert(driver).accept()\n",
    "    \n",
    "    # 적합 종목 리스트 찾기\n",
    "    if(group == 6):\n",
    "        useL = score25_code.copy()\n",
    "    elif(group == 7):\n",
    "        useL = score23_code.copy()\n",
    "    elif(group == 8):\n",
    "        useL = score20_code.copy()\n",
    "            \n",
    "    # 관심종목 목록 등록\n",
    "    for nowCode in useL:\n",
    "        time.sleep(0.5)\n",
    "        driver.find_element_by_css_selector(\"#mystock_input\").clear()\n",
    "        time.sleep(0.5)\n",
    "        driver.find_element_by_css_selector(\"#mystock_input\").send_keys(nowCode)\n",
    "        driver.find_element_by_css_selector(\"#mystock_input\").send_keys(Keys.RETURN)\n"
   ]
  },
  {
   "cell_type": "code",
   "execution_count": null,
   "metadata": {},
   "outputs": [],
   "source": []
  }
 ],
 "metadata": {
  "kernelspec": {
   "display_name": "Python 3",
   "language": "python",
   "name": "python3"
  },
  "language_info": {
   "codemirror_mode": {
    "name": "ipython",
    "version": 3
   },
   "file_extension": ".py",
   "mimetype": "text/x-python",
   "name": "python",
   "nbconvert_exporter": "python",
   "pygments_lexer": "ipython3",
   "version": "3.7.3"
  }
 },
 "nbformat": 4,
 "nbformat_minor": 4
}
