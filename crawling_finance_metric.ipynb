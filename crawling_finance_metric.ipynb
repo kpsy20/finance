{
 "cells": [
  {
   "cell_type": "code",
   "execution_count": 1,
   "metadata": {},
   "outputs": [],
   "source": [
    "import pandas as pd\n",
    "# 과학적 표기 안하도록\n",
    "pd.options.display.float_format = '{:.2f}'.format\n",
    "\n",
    "import numpy as np\n",
    "import datetime"
   ]
  },
  {
   "cell_type": "markdown",
   "metadata": {},
   "source": [
    "---\n",
    "### request+bs로 크롤링\n"
   ]
  },
  {
   "cell_type": "code",
   "execution_count": 2,
   "metadata": {},
   "outputs": [],
   "source": [
    "import requests\n",
    "from bs4 import BeautifulSoup as bs"
   ]
  },
  {
   "cell_type": "code",
   "execution_count": 3,
   "metadata": {},
   "outputs": [],
   "source": [
    "# code로 접근 가능한 url\n",
    "code_url = \"https://finance.naver.com/item/main.nhn?code=\"\n",
    "# 종목 분석 url\n",
    "coinfo_url = \"https://finance.naver.com/item/coinfo.nhn?code=\"\n",
    "# 종목 분석 url (!naver)\n",
    "coinfo_url_2 = \"https://navercomp.wisereport.co.kr/v2/company/c1050001.aspx?cmp_cd=%s&cn=\"\n",
    "# 시가총액 목록 url\n",
    "size_market_url_0 = \"https://finance.naver.com/sise/sise_market_sum.nhn?sosok=0&page=\"\n",
    "size_market_url_1 = \"https://finance.naver.com/sise/sise_market_sum.nhn?sosok=1&page=\""
   ]
  },
  {
   "cell_type": "markdown",
   "metadata": {},
   "source": [
    "---\n",
    "\n",
    "### 시가총액 목록 사용하기"
   ]
  },
  {
   "cell_type": "code",
   "execution_count": 4,
   "metadata": {},
   "outputs": [],
   "source": [
    "# 시가총액 300억 이하 목록 구하기\n",
    "codeL = []\n",
    "\n",
    "# 코스피 300억 이하 (후보)\n",
    "# for i in range(19, 33):\n",
    "for i in range(17, 33):\n",
    "    soup = bs(requests.get(size_market_url_0+str(i)).text, 'html.parser')\n",
    "    tempL = [x.attrs[\"href\"].split(\"code=\")[1] for x in soup.select(\"table \")[1].select_one(\"tbody\").select(\"a.tltle\")]\n",
    "    codeL += tempL\n",
    "\n",
    "# 코스닥 300억 이하 (후보)\n",
    "# for i in range(22, 30):\n",
    "for i in range(19, 30):\n",
    "    soup = bs(requests.get(size_market_url_1+str(i)).text, 'html.parser')\n",
    "    tempL = [x.attrs[\"href\"].split(\"code=\")[1] for x in soup.select(\"table \")[1].select_one(\"tbody\").select(\"a.tltle\")]\n",
    "    codeL += tempL\n",
    "    "
   ]
  },
  {
   "cell_type": "code",
   "execution_count": 5,
   "metadata": {},
   "outputs": [],
   "source": [
    "# 오늘의 시가총액 code 목록 저장 \n",
    "todayDate = datetime.datetime.now().strftime(\"%Y_%b_%d\")\n",
    "f = open(\"./\"+todayDate+\"_시가총액_하위권.txt\", 'w')\n",
    "f.write(\"\\n\".join(codeL))\n",
    "f.close()\n",
    "\n",
    "# 오늘의 시가총액 code 목록 불러오기\n",
    "useDate = todayDate\n",
    "# useDate = \"2020_Feb_18\"\n",
    "f = open(\"./\"+useDate+\"_시가총액_하위권.txt\", \"r\")\n",
    "codeL = [x.replace(\"\\n\", \"\") for x in f.readlines()]\n",
    "f.close()"
   ]
  },
  {
   "cell_type": "markdown",
   "metadata": {},
   "source": [
    "---\n",
    "\n",
    "<b>base code</b>\n"
   ]
  },
  {
   "cell_type": "code",
   "execution_count": 20,
   "metadata": {},
   "outputs": [],
   "source": [
    "def getSoupFromCode(code):\n",
    "    code_url = \"https://finance.naver.com/item/main.nhn?code=\"\n",
    "    soup = bs(requests.get(code_url + code).text, 'html.parser')\n",
    "    return soup\n",
    "\n",
    "def cleanText(text):\n",
    "    return text.replace(\"\\n\", \"\").replace(\"\\t\",\"\").replace(\"조\",\"\").replace(\",\",\"\")\n",
    "\n",
    "def getName(code):\n",
    "    soup = getSoupFromCode(code)\n",
    "    name = soup.select_one(\"#middle > div.h_company > div.wrap_company > h2 > a\").text\n",
    "    return name\n",
    "\n",
    "def getSoupFromReport(code):\n",
    "    report_url = \"https://navercomp.wisereport.co.kr/v2/company/c1010001.aspx?cmp_cd=\"\n",
    "    soup = bs(requests.get(report_url + code).text, 'html.parser')\n",
    "    return soup\n",
    "\n",
    "def getMeanPer(code):\n",
    "    soup = getSoupFromReport(code)\n",
    "    try:\n",
    "        temp = [x.text.split()[1] for x in soup.select_one(\".td0301\").select(\".line-left\") if x.text.split()[0] == \"업종PER\"]\n",
    "    except:\n",
    "        return 0\n",
    "    per_str = [x.text.split()[1] for x in soup.select_one(\".td0301\").select(\".line-left\") if x.text.split()[0] == \"업종PER\"][0]\n",
    "    if(per_str == \"N/A\"):\n",
    "        return 0\n",
    "    return per_str\n"
   ]
  },
  {
   "cell_type": "markdown",
   "metadata": {},
   "source": [
    "---\n",
    "\n",
    "## 사용할 조건들\n",
    "\n",
    "- PBR 1 미만\n",
    "- PER 7 미만\n",
    "- 시총 300 미만\n",
    "- PCR 8 미만\n",
    "- POR 8 미만\n"
   ]
  },
  {
   "cell_type": "markdown",
   "metadata": {},
   "source": [
    "---\n",
    "\n",
    "#### etf 인가"
   ]
  },
  {
   "cell_type": "code",
   "execution_count": 7,
   "metadata": {},
   "outputs": [],
   "source": [
    "def isETF(code):\n",
    "    soup = getSoupFromCode(code)\n",
    "    if(len(soup.select(\".e_summary\")) == 0):\n",
    "        return False\n",
    "    return True"
   ]
  },
  {
   "cell_type": "markdown",
   "metadata": {},
   "source": [
    "#### etn 인가"
   ]
  },
  {
   "cell_type": "code",
   "execution_count": 8,
   "metadata": {},
   "outputs": [],
   "source": [
    "def isETN(code):\n",
    "    name = getName(code)\n",
    "    if(\"ETN\" in name):\n",
    "        return True\n",
    "    return False"
   ]
  },
  {
   "cell_type": "markdown",
   "metadata": {},
   "source": [
    "---\n",
    "\n",
    "#### 우선주인가\n"
   ]
  },
  {
   "cell_type": "code",
   "execution_count": 14,
   "metadata": {},
   "outputs": [],
   "source": [
    "def isFirst(code):\n",
    "    name = getName(code)\n",
    "    if(name[-1] == \"우\"):\n",
    "        return True\n",
    "    if(name[-2:] == \"우A\"):\n",
    "        return True\n",
    "    if(name[-2:] == \"우B\"):\n",
    "        return True\n",
    "    if(name[-2:] == \"우C\"):\n",
    "        return True\n",
    "    return False"
   ]
  },
  {
   "cell_type": "markdown",
   "metadata": {},
   "source": [
    "#### 시총 300억 미만인가"
   ]
  },
  {
   "cell_type": "code",
   "execution_count": 9,
   "metadata": {},
   "outputs": [],
   "source": [
    "def under300(code):\n",
    "    soup = getSoupFromCode(code)\n",
    "    \n",
    "    if(int(cleanText(soup.select_one(\"#_market_sum\").text)) < 300):\n",
    "        return True\n",
    "    return False    "
   ]
  },
  {
   "cell_type": "markdown",
   "metadata": {},
   "source": [
    "#### per 7 미만인가"
   ]
  },
  {
   "cell_type": "code",
   "execution_count": 24,
   "metadata": {},
   "outputs": [],
   "source": [
    "def perUnder7(code):\n",
    "    soup = getSoupFromReport(code)\n",
    "    try:\n",
    "        temp = [x.text.split()[1] for x in soup.select_one(\".td0301\").select(\".line-left\") if x.text.split()[0] == \"PER\"]\n",
    "    except:\n",
    "        return -1\n",
    "    per_str = [x.text.split()[1] for x in soup.select_one(\".td0301\").select(\".line-left\") if x.text.split()[0] == \"PER\"][0]\n",
    "    if(per_str == \"N/A\"):\n",
    "        return -1\n",
    "    per_str = cleanText(per_str)\n",
    "    if(float(per_str) < 7 and float(per_str) > 0):\n",
    "        return per_str\n",
    "    return -1\n",
    "    "
   ]
  },
  {
   "cell_type": "markdown",
   "metadata": {},
   "source": [
    "#### pbr 1 미만인가"
   ]
  },
  {
   "cell_type": "code",
   "execution_count": 25,
   "metadata": {},
   "outputs": [],
   "source": [
    "def pbrUnder1(code):\n",
    "    soup = getSoupFromReport(code)\n",
    "    try:\n",
    "        temp = [x.text.split()[1] for x in soup.select_one(\".td0301\").select(\".line-left\") if x.text.split()[0] == \"PBR\"]\n",
    "    except:\n",
    "        return -1\n",
    "    pbr_str = [x.text.split()[1] for x in soup.select_one(\".td0301\").select(\".line-left\") if x.text.split()[0] == \"PBR\"][0]\n",
    "    pbr_str = cleanText(pbr_str)\n",
    "    if(float(pbr_str) < 1 and float(pbr_str) > 0):\n",
    "        return pbr_str\n",
    "    return -1\n"
   ]
  },
  {
   "cell_type": "markdown",
   "metadata": {},
   "source": [
    "---\n",
    "\n",
    "## 괜찮은 종목 거르기"
   ]
  },
  {
   "cell_type": "code",
   "execution_count": 26,
   "metadata": {},
   "outputs": [],
   "source": [
    "# codeL.reverse()"
   ]
  },
  {
   "cell_type": "code",
   "execution_count": 28,
   "metadata": {},
   "outputs": [
    {
     "name": "stdout",
     "output_type": "stream",
     "text": [
      "파티게임즈 0.94 0.58\n",
      "영신금속 2.87 0.39\n",
      "PN풍년 3.21 0.43\n",
      "동일철강 4.51 0.28\n",
      "패션플랫폼 5.59 0.57\n",
      "에스앤씨엔진그룹 2.10 0.05\n",
      "제일테크노스 5.98 0.30\n",
      "피앤텔 0.52 0.38\n",
      "성우테크론 6.22 0.54\n",
      "신원종합개발 1.98 0.29\n",
      "휴맥스홀딩스 4.94 0.16\n",
      "원일특강 3.10 0.26\n",
      "한국컴퓨터 4.23 0.32\n",
      "코리아에셋투자증권 4.42 0.51\n",
      "아즈텍WB 6.83 0.34\n",
      "KBI메탈 5.19 0.37\n",
      "제이스테판 2.57 0.07\n",
      "스페코 3.84 0.93\n",
      "DSC인베스트먼트 5.51 0.96\n",
      "흥국 5.06 0.52\n",
      "유비벨록스 5.98 0.44\n",
      "바이오로그디바이스 6.18 0.69\n",
      "에코바이오 5.39 0.62\n",
      "오리콤 6.50 0.46\n",
      "파워넷 6.49 0.65\n",
      "에스에이티 4.36 0.48\n",
      "한일네트웍스 5.89 0.62\n",
      "골든센츄리 1.09 0.14\n",
      "케이디켐 5.68 0.53\n",
      "슈프리마에이치큐 5.40 0.27\n",
      "원익 0.94 0.39\n",
      "삼진 3.81 0.60\n",
      "에스폴리텍 4.36 0.80\n",
      "현대통신 4.51 0.58\n",
      "메디앙스 1.24 0.59\n",
      "선익시스템 6.89 0.52\n",
      "케이피에프 6.30 0.29\n",
      "SG 4.73 0.68\n",
      "푸드웰 1.58 0.62\n",
      "흥국화재2우B 4.07 0.22\n",
      "넥센타이어1우B 4.27 0.32\n",
      "에이리츠 1.51 0.63\n",
      "하이골드3호 2.40 0.54\n",
      "이스타코 3.13 0.46\n",
      "두산2우B 1.95 0.40\n",
      "하이골드12호 3.79 0.78\n",
      "하이골드8호 4.99 0.93\n",
      "한솔로지스틱스 5.37 0.67\n",
      "SJM 4.99 0.21\n",
      "동원수산 6.14 0.73\n",
      "신풍제지 1.98 0.44\n",
      "진양산업 5.88 0.98\n",
      "티에이치엔 2.48 0.68\n",
      "한국프랜지 3.66 0.19\n",
      "동양피스톤 4.34 0.39\n",
      "NI스틸 6.73 0.39\n",
      "DSR제강 6.90 0.33\n",
      "까뮤이앤씨 3.55 0.66\n",
      "CS홀딩스 5.19 0.22\n",
      "미래아이앤지 3.69 0.74\n",
      "경동인베스트 5.83 0.12\n",
      "DSR 6.22 0.35\n"
     ]
    }
   ],
   "source": [
    "good = []\n",
    "\n",
    "for code in codeL:\n",
    "    if(isETF(code)):\n",
    "        continue\n",
    "    if(isETN(code)):\n",
    "        continue\n",
    "    if(isFirst(code)):\n",
    "        continue\n",
    "    per = perUnder7(code)\n",
    "    if(per == -1):\n",
    "        continue\n",
    "    pbr = pbrUnder1(code)\n",
    "    if(pbr == -1):\n",
    "        continue\n",
    "    name = getName(code)\n",
    "    good.append(name + \" \" + str(per) + \" \" + str(pbr))\n",
    "    print(name, per, pbr)"
   ]
  },
  {
   "cell_type": "code",
   "execution_count": 25,
   "metadata": {},
   "outputs": [
    {
     "data": {
      "text/plain": [
       "39"
      ]
     },
     "execution_count": 25,
     "metadata": {},
     "output_type": "execute_result"
    }
   ],
   "source": [
    "len(good)"
   ]
  },
  {
   "cell_type": "code",
   "execution_count": null,
   "metadata": {},
   "outputs": [],
   "source": [
    "good"
   ]
  },
  {
   "cell_type": "markdown",
   "metadata": {},
   "source": [
    "---\n",
    "\n",
    "## 나의 네이버증권 셋팅하기"
   ]
  },
  {
   "cell_type": "code",
   "execution_count": 13,
   "metadata": {},
   "outputs": [],
   "source": [
    "from selenium import webdriver\n",
    "from selenium.webdriver.common.alert import Alert\n",
    "from selenium.webdriver.common.keys import Keys\n",
    "\n",
    "import time"
   ]
  },
  {
   "cell_type": "code",
   "execution_count": 14,
   "metadata": {},
   "outputs": [],
   "source": [
    "# 미리 로그인\n",
    "driver = webdriver.Chrome('./chromedriver')\n",
    "itemListUrl = \"https://finance.naver.com/mystock/itemList.nhn?groupId=6&type=OVERALL\"\n",
    "driver.get(itemListUrl)"
   ]
  },
  {
   "cell_type": "code",
   "execution_count": 16,
   "metadata": {},
   "outputs": [
    {
     "name": "stdout",
     "output_type": "stream",
     "text": [
      "https://finance.naver.com/mystock/itemList.nhn?groupId=6&type=OVERALL\n",
      "https://finance.naver.com/mystock/itemList.nhn?groupId=7&type=OVERALL\n",
      "https://finance.naver.com/mystock/itemList.nhn?groupId=8&type=OVERALL\n"
     ]
    }
   ],
   "source": [
    "for group in range(6, 9):\n",
    "\n",
    "    # 링크 접속 및 로그인\n",
    "    itemListUrl = \"https://finance.naver.com/mystock/itemList.nhn?groupId=%s&type=OVERALL\" % str(group)\n",
    "    print(itemListUrl )\n",
    "    \n",
    "    # 기존 관심 종목 삭제\n",
    "    time.sleep(0.5)\n",
    "    driver.get(itemListUrl)\n",
    "    time.sleep(0.5)\n",
    "    driver.find_element_by_css_selector(\"#all_select\").click()\n",
    "    time.sleep(0.5)\n",
    "    driver.find_element_by_css_selector(\"#wrap > div.section_mys > div.group_mystb.NE\\=a\\:lst > div:nth-child(2) > button.btn_del.NPI\\=a\\:del\").click()\n",
    "    time.sleep(0.5)\n",
    "    Alert(driver).accept()\n",
    "    \n",
    "    # 적합 종목 리스트 찾기\n",
    "    if(group == 6):\n",
    "        useL = score25_code.copy()\n",
    "    elif(group == 7):\n",
    "        useL = score23_code.copy()\n",
    "    elif(group == 8):\n",
    "        useL = score20_code.copy()\n",
    "            \n",
    "    # 관심종목 목록 등록\n",
    "    for nowCode in useL:\n",
    "        time.sleep(0.5)\n",
    "        driver.find_element_by_css_selector(\"#mystock_input\").clear()\n",
    "        time.sleep(0.5)\n",
    "        driver.find_element_by_css_selector(\"#mystock_input\").send_keys(nowCode)\n",
    "        driver.find_element_by_css_selector(\"#mystock_input\").send_keys(Keys.RETURN)\n"
   ]
  },
  {
   "cell_type": "code",
   "execution_count": null,
   "metadata": {},
   "outputs": [],
   "source": []
  }
 ],
 "metadata": {
  "kernelspec": {
   "display_name": "Python 3",
   "language": "python",
   "name": "python3"
  },
  "language_info": {
   "codemirror_mode": {
    "name": "ipython",
    "version": 3
   },
   "file_extension": ".py",
   "mimetype": "text/x-python",
   "name": "python",
   "nbconvert_exporter": "python",
   "pygments_lexer": "ipython3",
   "version": "3.7.7"
  }
 },
 "nbformat": 4,
 "nbformat_minor": 4
}
