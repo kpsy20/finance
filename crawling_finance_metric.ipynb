{
 "cells": [
  {
   "cell_type": "code",
   "execution_count": 1,
   "metadata": {},
   "outputs": [],
   "source": [
    "import datetime\n",
    "\n",
    "import requests\n",
    "from bs4 import BeautifulSoup as bs"
   ]
  },
  {
   "cell_type": "markdown",
   "metadata": {},
   "source": [
    "---\n",
    "\n",
    "### 시가총액 3분위, 10분위 기준 구하기"
   ]
  },
  {
   "cell_type": "code",
   "execution_count": 2,
   "metadata": {},
   "outputs": [],
   "source": [
    "size_market_url_0 = \"https://finance.naver.com/sise/sise_market_sum.nhn?sosok=0&page=\"\n",
    "size_market_url_1 = \"https://finance.naver.com/sise/sise_market_sum.nhn?sosok=1&page=\"\n",
    "sizeL = []\n"
   ]
  },
  {
   "cell_type": "code",
   "execution_count": 6,
   "metadata": {},
   "outputs": [
    {
     "data": {
      "text/plain": [
       "['2,972,952',\n",
       " '599,146',\n",
       " '395,005',\n",
       " '349,060',\n",
       " '285,579',\n",
       " '252,721',\n",
       " '223,496',\n",
       " '217,640',\n",
       " '207,258',\n",
       " '189,376',\n",
       " '188,756',\n",
       " '173,950',\n",
       " '168,355',\n",
       " '158,728',\n",
       " '155,193',\n",
       " '148,108',\n",
       " '145,695',\n",
       " '139,627',\n",
       " '135,411',\n",
       " '133,474',\n",
       " '127,081',\n",
       " '109,746',\n",
       " '107,912',\n",
       " '102,595',\n",
       " '95,702',\n",
       " '94,752',\n",
       " '93,565',\n",
       " '92,994',\n",
       " '92,700',\n",
       " '81,510',\n",
       " '81,245',\n",
       " '79,114',\n",
       " '72,366',\n",
       " '65,637',\n",
       " '65,539',\n",
       " '59,597',\n",
       " '58,431',\n",
       " '57,822',\n",
       " '51,199',\n",
       " '51,025',\n",
       " '50,606',\n",
       " '50,540',\n",
       " '47,562',\n",
       " '46,212',\n",
       " '45,929',\n",
       " '45,830',\n",
       " '44,410',\n",
       " '40,147',\n",
       " '39,966']"
      ]
     },
     "execution_count": 6,
     "metadata": {},
     "output_type": "execute_result"
    }
   ],
   "source": [
    "soup = bs(requests.get(size_market_url_0+\"1\").text, 'html.parser')\n",
    "[x.select(\"td.number\")[4].text for x in soup.select(\"table\")[1].select_one(\"tbody\").findAll(\"tr\",{\"onmouseout\":\"mouseOut(this)\"}) if isStockByName(x.select_one(\"a.tltle\").text)]\n"
   ]
  },
  {
   "cell_type": "code",
   "execution_count": 7,
   "metadata": {},
   "outputs": [],
   "source": [
    "for i in range(1, 33):\n",
    "    soup = bs(requests.get(size_market_url_0+str(i)).text, 'html.parser')\n",
    "    tempL = [x.select(\"td.number\")[4].text for x in soup.select(\"table\")[1].select_one(\"tbody\").findAll(\"tr\",{\"onmouseout\":\"mouseOut(this)\"}) if isStockByName(x.select_one(\"a.tltle\").text)]\n",
    "    sizeL += [int(x.replace(\",\",\"\")) for x in tempL]\n",
    "for i in range(1, 30):\n",
    "    soup = bs(requests.get(size_market_url_1+str(i)).text, 'html.parser')\n",
    "    tempL = [x.select(\"td.number\")[4].text for x in soup.select(\"table\")[1].select_one(\"tbody\").findAll(\"tr\",{\"onmouseout\":\"mouseOut(this)\"}) if isStockByName(x.select_one(\"a.tltle\").text)]\n",
    "    sizeL += [int(x.replace(\",\",\"\")) for x in tempL]\n"
   ]
  },
  {
   "cell_type": "code",
   "execution_count": 8,
   "metadata": {},
   "outputs": [],
   "source": [
    "sizeL = sorted(sizeL)"
   ]
  },
  {
   "cell_type": "code",
   "execution_count": 9,
   "metadata": {},
   "outputs": [
    {
     "data": {
      "text/plain": [
       "266.0"
      ]
     },
     "execution_count": 9,
     "metadata": {},
     "output_type": "execute_result"
    }
   ],
   "source": [
    "len(sizeL) / 10"
   ]
  },
  {
   "cell_type": "code",
   "execution_count": 11,
   "metadata": {},
   "outputs": [
    {
     "name": "stdout",
     "output_type": "stream",
     "text": [
      "481\n",
      "6586\n"
     ]
    }
   ],
   "source": [
    "# 3분위까지의 기준\n",
    "size3 = sizeL[:int(265.6*3)][-1]\n",
    "print(size3)\n",
    "\n",
    "# 10분위 까지의 기준\n",
    "size10 = sizeL[-265:][0]\n",
    "print(size10)"
   ]
  },
  {
   "cell_type": "markdown",
   "metadata": {},
   "source": [
    "---\n",
    "\n",
    "### 시가총액 목록 사용하기"
   ]
  },
  {
   "cell_type": "code",
   "execution_count": 12,
   "metadata": {},
   "outputs": [],
   "source": [
    "# 시가총액 300억 이하 목록 구하기\n",
    "size_market_url_0 = \"https://finance.naver.com/sise/sise_market_sum.nhn?sosok=0&page=\"\n",
    "size_market_url_1 = \"https://finance.naver.com/sise/sise_market_sum.nhn?sosok=1&page=\"\n",
    "codeL = []\n",
    "\n",
    "# 코스피 300억 이하 (후보)\n",
    "for i in range(1, 33):\n",
    "    soup = bs(requests.get(size_market_url_0+str(i)).text, 'html.parser')\n",
    "    tempL = [x.attrs[\"href\"].split(\"code=\")[1] for x in soup.select(\"table \")[1].select_one(\"tbody\").select(\"a.tltle\")]\n",
    "    codeL += tempL\n",
    "\n",
    "# 코스닥 300억 이하 (후보)\n",
    "for i in range(1, 30):\n",
    "    soup = bs(requests.get(size_market_url_1+str(i)).text, 'html.parser')\n",
    "    tempL = [x.attrs[\"href\"].split(\"code=\")[1] for x in soup.select(\"table \")[1].select_one(\"tbody\").select(\"a.tltle\")]\n",
    "    codeL += tempL\n",
    "    \n",
    "# 시가총액 작은 애들부터 보기\n",
    "codeL.reverse()\n"
   ]
  },
  {
   "cell_type": "code",
   "execution_count": 13,
   "metadata": {},
   "outputs": [],
   "source": [
    "# 오늘의 시가총액 code 목록 저장 \n",
    "todayDate = datetime.datetime.now().strftime(\"%Y_%b_%d\")\n",
    "f = open(\"./\"+todayDate+\"_시가총액_하위권.txt\", 'w')\n",
    "f.write(\"\\n\".join(codeL))\n",
    "f.close()\n",
    "\n",
    "# 오늘의 시가총액 code 목록 불러오기\n",
    "useDate = todayDate\n",
    "# useDate = \"2020_Feb_18\"\n",
    "f = open(\"./\"+useDate+\"_시가총액_하위권.txt\", \"r\")\n",
    "codeL = [x.replace(\"\\n\", \"\") for x in f.readlines()]\n",
    "f.close()"
   ]
  },
  {
   "cell_type": "markdown",
   "metadata": {},
   "source": [
    "---\n",
    "\n",
    "<b>base code</b>\n"
   ]
  },
  {
   "cell_type": "code",
   "execution_count": 14,
   "metadata": {},
   "outputs": [],
   "source": [
    "def getSoupFromCode(code):\n",
    "    code_url = \"https://finance.naver.com/item/main.nhn?code=\"\n",
    "    soup = bs(requests.get(code_url + code).text, 'html.parser')\n",
    "    return soup\n",
    "\n",
    "def cleanText(text):\n",
    "    return text.replace(\"\\n\", \"\").replace(\"\\t\",\"\").replace(\"조\",\"\").replace(\",\",\"\")\n",
    "\n",
    "def getName(soup):\n",
    "    name = soup.select_one(\"#middle > div.h_company > div.wrap_company > h2 > a\").text\n",
    "    return name\n",
    "\n",
    "def getSoupFromReport(code):\n",
    "    report_url = \"https://navercomp.wisereport.co.kr/v2/company/c1050001.aspx?cn=&cmp_cd=\"\n",
    "    soup = bs(requests.get(report_url + code).text, 'html.parser')\n",
    "    return soup\n",
    "\n",
    "def getJsonFromConsen(code):\n",
    "    consen_url = \"https://navercomp.wisereport.co.kr/company/ajax/c1050001_data.aspx?flag=2&finGubun=MAIN&frq=0\"+\\\n",
    "        \"&chartType=svg&cmp_cd=\"\n",
    "    return requests.get(consen_url + code).json()\n",
    "\n",
    "# def increasing(values):\n",
    "    "
   ]
  },
  {
   "cell_type": "markdown",
   "metadata": {},
   "source": [
    "---\n",
    "\n",
    "## 사용할 조건들\n",
    "\n",
    "- PBR 1 미만\n",
    "- PER 7 미만\n",
    "- 시총 300 미만\n",
    "- PCR 8 미만\n",
    "- POR 8 미만\n"
   ]
  },
  {
   "cell_type": "markdown",
   "metadata": {},
   "source": [
    "---\n",
    "\n",
    "#### etf 인가"
   ]
  },
  {
   "cell_type": "code",
   "execution_count": 15,
   "metadata": {},
   "outputs": [],
   "source": [
    "def isETF(soup):\n",
    "    if(len(soup.select(\".e_summary\")) == 0):\n",
    "        return False\n",
    "    return True"
   ]
  },
  {
   "cell_type": "markdown",
   "metadata": {},
   "source": [
    "#### etn 인가"
   ]
  },
  {
   "cell_type": "code",
   "execution_count": 16,
   "metadata": {},
   "outputs": [],
   "source": [
    "def isETN(soup):\n",
    "    name = getName(soup)\n",
    "    if(\"ETN\" in name):\n",
    "        return True\n",
    "    return False"
   ]
  },
  {
   "cell_type": "markdown",
   "metadata": {},
   "source": [
    "---\n",
    "\n",
    "#### 우선주인가\n"
   ]
  },
  {
   "cell_type": "code",
   "execution_count": 17,
   "metadata": {},
   "outputs": [],
   "source": [
    "def isFirst(soup):\n",
    "    name = getName(soup)\n",
    "    if(name[-1] == \"우\"):\n",
    "        return True\n",
    "    if(name[-2:] in [\"우A\", \"우B\", \"우C\"]):\n",
    "        return True\n",
    "    return False"
   ]
  },
  {
   "cell_type": "markdown",
   "metadata": {},
   "source": [
    "#### 정상적인 주식 (etf, etn, 우선주 제외) 인가"
   ]
  },
  {
   "cell_type": "code",
   "execution_count": 18,
   "metadata": {},
   "outputs": [],
   "source": [
    "def isStockByName(name):\n",
    "    if(\"ETF\" in name):\n",
    "        return False\n",
    "    if(\"ETN\" in name):\n",
    "        return False\n",
    "    if(name[-1] == \"우\"):\n",
    "        return False\n",
    "    if(name[-2:] in [\"우A\", \"우B\", \"우C\"]):\n",
    "        return False\n",
    "    return True"
   ]
  },
  {
   "cell_type": "markdown",
   "metadata": {},
   "source": [
    "#### 시총 300억 이하인가"
   ]
  },
  {
   "cell_type": "code",
   "execution_count": 19,
   "metadata": {},
   "outputs": [],
   "source": [
    "def marketSumBad(soup):\n",
    "    marketSum = int(cleanText(soup.select_one(\"#_market_sum\").text))\n",
    "    if(marketSum <= size3 or marketSum >= size10):\n",
    "        return False\n",
    "    return True"
   ]
  },
  {
   "cell_type": "markdown",
   "metadata": {},
   "source": [
    "#### per 7 미만인가"
   ]
  },
  {
   "cell_type": "code",
   "execution_count": 20,
   "metadata": {},
   "outputs": [],
   "source": [
    "def perUnder7(soup_report):\n",
    "    try:\n",
    "        per_str = [x.text.split()[1] for x in soup_report.select_one(\".td0301\").select(\".line-left\") if x.text.split()[0] == \"PER\"][0]\n",
    "        per_float = float(cleanText(per_str))\n",
    "        if(per_float < 7 and per_float > 0):\n",
    "            return per_float\n",
    "        return -1\n",
    "    except:\n",
    "        return -1\n",
    "    "
   ]
  },
  {
   "cell_type": "markdown",
   "metadata": {},
   "source": [
    "#### pbr 1 미만인가"
   ]
  },
  {
   "cell_type": "code",
   "execution_count": 21,
   "metadata": {},
   "outputs": [],
   "source": [
    "def pbrUnder1(soup_report):\n",
    "    try:\n",
    "        pbr_str = [x.text.split()[1] for x in soup_report.select_one(\".td0301\").select(\".line-left\") if x.text.split()[0] == \"PBR\"][0]\n",
    "        pbr_float = float(cleanText(pbr_str))\n",
    "        if(pbr_float < 1 and pbr_float > 0):\n",
    "            return pbr_float\n",
    "        return -1\n",
    "    except:\n",
    "        return -1\n"
   ]
  },
  {
   "cell_type": "markdown",
   "metadata": {},
   "source": [
    "---\n",
    "\n",
    "#### 산업평균 per이 양수인가"
   ]
  },
  {
   "cell_type": "code",
   "execution_count": 22,
   "metadata": {},
   "outputs": [],
   "source": [
    "def per_avg(soup_report):\n",
    "    try:\n",
    "        per_str = [x.text.split()[1] for x in soup_report.select_one(\".td0301\").select(\".line-left\") if x.text.split()[0] == \"업종PER\"][0]\n",
    "        per_float = float(cleanText(per_str))\n",
    "        if(per_float > 0):\n",
    "            return per_float\n",
    "        return -1\n",
    "    except:\n",
    "        return -1"
   ]
  },
  {
   "cell_type": "code",
   "execution_count": 23,
   "metadata": {},
   "outputs": [],
   "source": [
    "json = getJsonFromConsen(\"900080\")"
   ]
  },
  {
   "cell_type": "code",
   "execution_count": 24,
   "metadata": {},
   "outputs": [],
   "source": [
    "salesL = [float(cleanText(x[\"SALES\"])) for x in json[\"JsonData\"] if x[\"SALES\"] != \"\"]"
   ]
  },
  {
   "cell_type": "code",
   "execution_count": 16,
   "metadata": {},
   "outputs": [],
   "source": [
    "# 영업이익\n",
    "opL = [float(cleanText(x[\"OP\"])) for x in json[\"JsonData\"] if x[\"SALES\"] != \"\"]\n",
    "perL = [float(cleanText(x[\"PER\"])) for x in json[\"JsonData\"] if x[\"SALES\"] != \"\"]\n",
    "roeL = [float(cleanText(x[\"ROE\"])) for x in json[\"JsonData\"] if x[\"SALES\"] != \"\"]"
   ]
  },
  {
   "cell_type": "code",
   "execution_count": 17,
   "metadata": {},
   "outputs": [
    {
     "data": {
      "text/plain": [
       "[435.3, 324.4, 294.8, 219.1]"
      ]
     },
     "execution_count": 17,
     "metadata": {},
     "output_type": "execute_result"
    }
   ],
   "source": [
    "opL"
   ]
  },
  {
   "cell_type": "code",
   "execution_count": 18,
   "metadata": {},
   "outputs": [
    {
     "data": {
      "text/plain": [
       "[5.33, 4.76, 5.41, 3.74]"
      ]
     },
     "execution_count": 18,
     "metadata": {},
     "output_type": "execute_result"
    }
   ],
   "source": [
    "perL"
   ]
  },
  {
   "cell_type": "code",
   "execution_count": 19,
   "metadata": {},
   "outputs": [
    {
     "data": {
      "text/plain": [
       "[8.42, 7.24, 4.96, 4.13]"
      ]
     },
     "execution_count": 19,
     "metadata": {},
     "output_type": "execute_result"
    }
   ],
   "source": [
    "roeL"
   ]
  },
  {
   "cell_type": "code",
   "execution_count": 20,
   "metadata": {},
   "outputs": [
    {
     "ename": "NameError",
     "evalue": "name 'soup_report' is not defined",
     "output_type": "error",
     "traceback": [
      "\u001b[0;31m---------------------------------------------------------------------------\u001b[0m",
      "\u001b[0;31mNameError\u001b[0m                                 Traceback (most recent call last)",
      "\u001b[0;32m<ipython-input-20-87e06af89512>\u001b[0m in \u001b[0;36m<module>\u001b[0;34m\u001b[0m\n\u001b[0;32m----> 1\u001b[0;31m \u001b[0msoup_report\u001b[0m\u001b[0;34m.\u001b[0m\u001b[0mselect_one\u001b[0m\u001b[0;34m(\u001b[0m\u001b[0;34m\"#cTB511\"\u001b[0m\u001b[0;34m)\u001b[0m\u001b[0;34m\u001b[0m\u001b[0;34m\u001b[0m\u001b[0m\n\u001b[0m",
      "\u001b[0;31mNameError\u001b[0m: name 'soup_report' is not defined"
     ]
    }
   ],
   "source": [
    "soup_report.select_one(\"#cTB511\")"
   ]
  },
  {
   "cell_type": "code",
   "execution_count": 134,
   "metadata": {},
   "outputs": [
    {
     "data": {
      "text/plain": [
       "[]"
      ]
     },
     "execution_count": 134,
     "metadata": {},
     "output_type": "execute_result"
    }
   ],
   "source": [
    "soup_report.select(\"#cTB511\")"
   ]
  },
  {
   "cell_type": "markdown",
   "metadata": {},
   "source": [
    "---\n",
    "\n",
    "## 괜찮은 종목 거르기"
   ]
  },
  {
   "cell_type": "code",
   "execution_count": 25,
   "metadata": {},
   "outputs": [
    {
     "name": "stdout",
     "output_type": "stream",
     "text": [
      "피앤텔 0.47 0.35\n",
      "차이나그레이트 1.24 0.01\n",
      "영신금속 3.37 0.46\n",
      "동일철강 5.34 0.33\n",
      "PN풍년 3.74 0.5\n",
      "에스앤씨엔진그룹 2.1 0.05\n",
      "패션플랫폼 6.85 0.7\n",
      "신원종합개발 2.33 0.34\n",
      "원일특강 3.75 0.32\n",
      "한국컴퓨터 4.97 0.38\n",
      "바이오로그디바이스 6.68 0.74\n",
      "코리아에셋투자증권 5.63 0.65\n",
      "에스에이티 4.86 0.53\n",
      "케이디켐 6.03 0.56\n",
      "진양폴리 3.49 0.99\n",
      "한솔로지스틱스 6.74 0.85\n",
      "SJM 6.44 0.27\n",
      "SK가스 4.59 0.43\n",
      "DGB금융지주 2.43 0.17\n",
      "다우기술 4.84 0.65\n",
      "태광산업 6.31 0.2\n",
      "JB금융지주 2.57 0.25\n",
      "한국테크놀로지그룹 6.01 0.27\n",
      "롯데정밀화학 5.46 0.61\n",
      "영풍 4.14 0.28\n",
      "코리안리 5.32 0.39\n",
      "HDC현대산업개발 2.39 0.44\n",
      "메리츠금융지주 3.63 0.5\n",
      "대우건설 6.91 0.58\n",
      "BNK금융지주 2.59 0.18\n",
      "메리츠화재 5.66 0.69\n",
      "키움증권 5.55 0.88\n",
      "GS건설 4.3 0.48\n",
      "메리츠증권 4.45 0.59\n",
      "신세계 4.54 0.61\n",
      "삼성증권 6.26 0.5\n",
      "한국타이어앤테크놀로지 6.11 0.36\n",
      "NH투자증권 5.78 0.51\n",
      "한국금융지주 3.37 0.54\n",
      "대림산업 4.69 0.53\n",
      "GS 6.52 0.4\n",
      "기업은행 3.12 0.22\n",
      "우리금융지주 2.83 0.26\n",
      "하나금융지주 3.13 0.26\n",
      "기아차 6.51 0.41\n",
      "KB금융 3.91 0.31\n",
      "신한지주 4.13 0.35\n"
     ]
    }
   ],
   "source": [
    "good = []\n",
    "for code in codeL:\n",
    "    \n",
    "    # 자원 확보\n",
    "    soup = getSoupFromCode(code)\n",
    "    soup_report = getSoupFromReport(code)\n",
    "    name = getName(soup)\n",
    "    \n",
    "    # etf/etn/우선주/300초과 제외\n",
    "    if(isETF(soup) or isETN(soup) or isFirst(soup) or marketSumBad(soup)):\n",
    "        continue\n",
    "        \n",
    "    # 0<per<7, 0<pbr<1\n",
    "    per = perUnder7(soup_report)\n",
    "    pbr = pbrUnder1(soup_report)\n",
    "    perAvg = per_avg(soup_report)\n",
    "    if(per == -1 or pbr\n",
    "       == -1 or perAvg == -1):\n",
    "        continue\n",
    "        \n",
    "    # 출력\n",
    "    good.append(name + \" \" + str(per) + \" \" + str(pbr))\n",
    "    print(name, per, pbr)"
   ]
  },
  {
   "cell_type": "code",
   "execution_count": 22,
   "metadata": {},
   "outputs": [
    {
     "data": {
      "text/plain": [
       "11"
      ]
     },
     "execution_count": 22,
     "metadata": {},
     "output_type": "execute_result"
    }
   ],
   "source": [
    "len(good)"
   ]
  },
  {
   "cell_type": "code",
   "execution_count": 23,
   "metadata": {},
   "outputs": [
    {
     "data": {
      "text/plain": [
       "['성우테크론 6.63 0.57',\n",
       " '신원종합개발 2.38 0.35',\n",
       " '원일특강 3.79 0.32',\n",
       " '한국컴퓨터 4.94 0.38',\n",
       " '바이오로그디바이스 6.52 0.73',\n",
       " '코리아에셋투자증권 5.4 0.62',\n",
       " '케이디켐 6.06 0.57',\n",
       " '한솔로지스틱스 6.16 0.77',\n",
       " '진양산업 5.53 0.92',\n",
       " 'SJM 5.79 0.24',\n",
       " '동원수산 6.55 0.78']"
      ]
     },
     "execution_count": 23,
     "metadata": {},
     "output_type": "execute_result"
    }
   ],
   "source": [
    "good"
   ]
  },
  {
   "cell_type": "markdown",
   "metadata": {},
   "source": [
    "---\n",
    "\n",
    "## 나의 네이버증권 셋팅하기"
   ]
  },
  {
   "cell_type": "code",
   "execution_count": 35,
   "metadata": {},
   "outputs": [
    {
     "name": "stdout",
     "output_type": "stream",
     "text": [
      "Password:\n"
     ]
    }
   ],
   "source": [
    "!sudo pip3 install selenium -dhtlqwh50"
   ]
  },
  {
   "cell_type": "code",
   "execution_count": 39,
   "metadata": {},
   "outputs": [
    {
     "ename": "ModuleNotFoundError",
     "evalue": "No module named 'selenium'",
     "output_type": "error",
     "traceback": [
      "\u001b[0;31m---------------------------------------------------------------------------\u001b[0m",
      "\u001b[0;31mModuleNotFoundError\u001b[0m                       Traceback (most recent call last)",
      "\u001b[0;32m<ipython-input-39-988752059919>\u001b[0m in \u001b[0;36m<module>\u001b[0;34m\u001b[0m\n\u001b[0;32m----> 1\u001b[0;31m \u001b[0;32mfrom\u001b[0m \u001b[0mselenium\u001b[0m \u001b[0;32mimport\u001b[0m \u001b[0mwebdriver\u001b[0m\u001b[0;34m\u001b[0m\u001b[0;34m\u001b[0m\u001b[0m\n\u001b[0m\u001b[1;32m      2\u001b[0m \u001b[0;32mfrom\u001b[0m \u001b[0mselenium\u001b[0m\u001b[0;34m.\u001b[0m\u001b[0mwebdriver\u001b[0m\u001b[0;34m.\u001b[0m\u001b[0mcommon\u001b[0m\u001b[0;34m.\u001b[0m\u001b[0malert\u001b[0m \u001b[0;32mimport\u001b[0m \u001b[0mAlert\u001b[0m\u001b[0;34m\u001b[0m\u001b[0;34m\u001b[0m\u001b[0m\n\u001b[1;32m      3\u001b[0m \u001b[0;32mfrom\u001b[0m \u001b[0mselenium\u001b[0m\u001b[0;34m.\u001b[0m\u001b[0mwebdriver\u001b[0m\u001b[0;34m.\u001b[0m\u001b[0mcommon\u001b[0m\u001b[0;34m.\u001b[0m\u001b[0mkeys\u001b[0m \u001b[0;32mimport\u001b[0m \u001b[0mKeys\u001b[0m\u001b[0;34m\u001b[0m\u001b[0;34m\u001b[0m\u001b[0m\n\u001b[1;32m      4\u001b[0m \u001b[0;34m\u001b[0m\u001b[0m\n\u001b[1;32m      5\u001b[0m \u001b[0;32mimport\u001b[0m \u001b[0mtime\u001b[0m\u001b[0;34m\u001b[0m\u001b[0;34m\u001b[0m\u001b[0m\n",
      "\u001b[0;31mModuleNotFoundError\u001b[0m: No module named 'selenium'"
     ]
    }
   ],
   "source": [
    "from selenium import webdriver\n",
    "from selenium.webdriver.common.alert import Alert\n",
    "from selenium.webdriver.common.keys import Keys\n",
    "\n",
    "import time"
   ]
  },
  {
   "cell_type": "code",
   "execution_count": 217,
   "metadata": {},
   "outputs": [
    {
     "ename": "NameError",
     "evalue": "name 'webdriver' is not defined",
     "output_type": "error",
     "traceback": [
      "\u001b[0;31m---------------------------------------------------------------------------\u001b[0m",
      "\u001b[0;31mNameError\u001b[0m                                 Traceback (most recent call last)",
      "\u001b[0;32m<ipython-input-217-eef604e18d1a>\u001b[0m in \u001b[0;36m<module>\u001b[0;34m\u001b[0m\n\u001b[1;32m      1\u001b[0m \u001b[0;31m# 미리 로그인\u001b[0m\u001b[0;34m\u001b[0m\u001b[0;34m\u001b[0m\u001b[0;34m\u001b[0m\u001b[0m\n\u001b[0;32m----> 2\u001b[0;31m \u001b[0mdriver\u001b[0m \u001b[0;34m=\u001b[0m \u001b[0mwebdriver\u001b[0m\u001b[0;34m.\u001b[0m\u001b[0mChrome\u001b[0m\u001b[0;34m(\u001b[0m\u001b[0;34m'./chromedriver'\u001b[0m\u001b[0;34m)\u001b[0m\u001b[0;34m\u001b[0m\u001b[0;34m\u001b[0m\u001b[0m\n\u001b[0m\u001b[1;32m      3\u001b[0m \u001b[0mitemListUrl\u001b[0m \u001b[0;34m=\u001b[0m \u001b[0;34m\"https://finance.naver.com/mystock/itemList.nhn?groupId=6&type=OVERALL\"\u001b[0m\u001b[0;34m\u001b[0m\u001b[0;34m\u001b[0m\u001b[0m\n\u001b[1;32m      4\u001b[0m \u001b[0mdriver\u001b[0m\u001b[0;34m.\u001b[0m\u001b[0mget\u001b[0m\u001b[0;34m(\u001b[0m\u001b[0mitemListUrl\u001b[0m\u001b[0;34m)\u001b[0m\u001b[0;34m\u001b[0m\u001b[0;34m\u001b[0m\u001b[0m\n",
      "\u001b[0;31mNameError\u001b[0m: name 'webdriver' is not defined"
     ]
    }
   ],
   "source": [
    "# 미리 로그인\n",
    "driver = webdriver.Chrome('./chromedriver')\n",
    "itemListUrl = \"https://finance.naver.com/mystock/itemList.nhn?groupId=6&type=OVERALL\"\n",
    "driver.get(itemListUrl)"
   ]
  },
  {
   "cell_type": "code",
   "execution_count": 16,
   "metadata": {},
   "outputs": [
    {
     "name": "stdout",
     "output_type": "stream",
     "text": [
      "https://finance.naver.com/mystock/itemList.nhn?groupId=6&type=OVERALL\n",
      "https://finance.naver.com/mystock/itemList.nhn?groupId=7&type=OVERALL\n",
      "https://finance.naver.com/mystock/itemList.nhn?groupId=8&type=OVERALL\n"
     ]
    }
   ],
   "source": [
    "for group in range(6, 9):\n",
    "\n",
    "    # 링크 접속 및 로그인\n",
    "    itemListUrl = \"https://finance.naver.com/mystock/itemList.nhn?groupId=%s&type=OVERALL\" % str(group)\n",
    "    print(itemListUrl )\n",
    "    \n",
    "    # 기존 관심 종목 삭제\n",
    "    time.sleep(0.5)\n",
    "    driver.get(itemListUrl)\n",
    "    time.sleep(0.5)\n",
    "    driver.find_element_by_css_selector(\"#all_select\").click()\n",
    "    time.sleep(0.5)\n",
    "    driver.find_element_by_css_selector(\"#wrap > div.section_mys > div.group_mystb.NE\\=a\\:lst > div:nth-child(2) > button.btn_del.NPI\\=a\\:del\").click()\n",
    "    time.sleep(0.5)\n",
    "    Alert(driver).accept()\n",
    "    \n",
    "    # 적합 종목 리스트 찾기\n",
    "    if(group == 6):\n",
    "        useL = score25_code.copy()\n",
    "    elif(group == 7):\n",
    "        useL = score23_code.copy()\n",
    "    elif(group == 8):\n",
    "        useL = score20_code.copy()\n",
    "            \n",
    "    # 관심종목 목록 등록\n",
    "    for nowCode in useL:\n",
    "        time.sleep(0.5)\n",
    "        driver.find_element_by_css_selector(\"#mystock_input\").clear()\n",
    "        time.sleep(0.5)\n",
    "        driver.find_element_by_css_selector(\"#mystock_input\").send_keys(nowCode)\n",
    "        driver.find_element_by_css_selector(\"#mystock_input\").send_keys(Keys.RETURN)\n"
   ]
  },
  {
   "cell_type": "code",
   "execution_count": null,
   "metadata": {},
   "outputs": [],
   "source": []
  }
 ],
 "metadata": {
  "kernelspec": {
   "display_name": "Python 3",
   "language": "python",
   "name": "python3"
  },
  "language_info": {
   "codemirror_mode": {
    "name": "ipython",
    "version": 3
   },
   "file_extension": ".py",
   "mimetype": "text/x-python",
   "name": "python",
   "nbconvert_exporter": "python",
   "pygments_lexer": "ipython3",
   "version": "3.7.3"
  }
 },
 "nbformat": 4,
 "nbformat_minor": 4
}
