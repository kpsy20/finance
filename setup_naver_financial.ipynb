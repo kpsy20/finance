{
 "cells": [
  {
   "cell_type": "markdown",
   "metadata": {},
   "source": [
    "## 나의 네이버 증권 셋팅하기"
   ]
  },
  {
   "cell_type": "code",
   "execution_count": null,
   "metadata": {
    "collapsed": true
   },
   "outputs": [],
   "source": [
    "!sudo pip3 install selenium -dhtlqwh50\n",
    "\n",
    "from selenium import webdriver\n",
    "from selenium.webdriver.common.alert import Alert\n",
    "from selenium.webdriver.common.keys import Keys\n",
    "\n",
    "import time\n",
    "\n",
    "# 미리 로그인\n",
    "driver = webdriver.Chrome('./chromedriver')\n",
    "itemListUrl = \"https://finance.naver.com/mystock/itemList.nhn?groupId=6&type=OVERALL\"\n",
    "driver.get(itemListUrl)\n",
    "\n",
    "for group in range(6, 9):\n",
    "\n",
    "    # 링크 접속 및 로그인\n",
    "    itemListUrl = \"https://finance.naver.com/mystock/itemList.nhn?groupId=%s&type=OVERALL\" % str(group)\n",
    "    print(itemListUrl )\n",
    "    \n",
    "    # 기존 관심 종목 삭제\n",
    "    time.sleep(0.5)\n",
    "    driver.get(itemListUrl)\n",
    "    time.sleep(0.5)\n",
    "    driver.find_element_by_css_selector(\"#all_select\").click()\n",
    "    time.sleep(0.5)\n",
    "    driver.find_element_by_css_selector(\"#wrap > div.section_mys > div.group_mystb.NE\\=a\\:lst > div:nth-child(2) > button.btn_del.NPI\\=a\\:del\").click()\n",
    "    time.sleep(0.5)\n",
    "    Alert(driver).accept()\n",
    "    \n",
    "    # 적합 종목 리스트 찾기\n",
    "    if(group == 6):\n",
    "        useL = score25_code.copy()\n",
    "    elif(group == 7):\n",
    "        useL = score23_code.copy()\n",
    "    elif(group == 8):\n",
    "        useL = score20_code.copy()\n",
    "            \n",
    "    # 관심종목 목록 등록\n",
    "    for nowCode in useL:\n",
    "        time.sleep(0.5)\n",
    "        driver.find_element_by_css_selector(\"#mystock_input\").clear()\n",
    "        time.sleep(0.5)\n",
    "        driver.find_element_by_css_selector(\"#mystock_input\").send_keys(nowCode)\n",
    "        driver.find_element_by_css_selector(\"#mystock_input\").send_keys(Keys.RETURN)\n"
   ]
  }
 ],
 "metadata": {
  "kernelspec": {
   "display_name": "Python 3",
   "language": "python",
   "name": "python3"
  },
  "language_info": {
   "codemirror_mode": {
    "name": "ipython",
    "version": 3
   },
   "file_extension": ".py",
   "mimetype": "text/x-python",
   "name": "python",
   "nbconvert_exporter": "python",
   "pygments_lexer": "ipython3",
   "version": "3.6.3"
  }
 },
 "nbformat": 4,
 "nbformat_minor": 2
}
