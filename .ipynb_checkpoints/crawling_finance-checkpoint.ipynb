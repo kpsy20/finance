{
 "cells": [
  {
   "cell_type": "code",
   "execution_count": 149,
   "metadata": {},
   "outputs": [],
   "source": [
    "import pandas as pd\n",
    "# 과학적 표기 안하도록\n",
    "pd.options.display.float_format = '{:.2f}'.format\n",
    "\n",
    "import numpy as np\n",
    "import datetime"
   ]
  },
  {
   "cell_type": "markdown",
   "metadata": {},
   "source": [
    "---\n",
    "### 증감 결과 확인을 위한 함수"
   ]
  },
  {
   "cell_type": "code",
   "execution_count": 136,
   "metadata": {},
   "outputs": [],
   "source": [
    "def increasing(col):\n",
    "    for i in range(len(col)):\n",
    "        if(i == 0):\n",
    "            temp = col[i]\n",
    "        else:\n",
    "            if(temp > col[i]):\n",
    "                return 0\n",
    "            temp = col[i]\n",
    "    return 1 \n",
    "\n",
    "def decreasing(col):\n",
    "    for i in range(len(col)):\n",
    "        if(i==0):\n",
    "            temp = col[i]\n",
    "        else:\n",
    "            if(temp < col[i]):\n",
    "                return 0\n",
    "            temp = col[i]\n",
    "    return 1"
   ]
  },
  {
   "cell_type": "markdown",
   "metadata": {},
   "source": [
    "---\n",
    "### selenium으로 크롤링\n"
   ]
  },
  {
   "cell_type": "code",
   "execution_count": 222,
   "metadata": {},
   "outputs": [],
   "source": [
    "from selenium import webdriver\n",
    "import requests\n",
    "from bs4 import BeautifulSoup as bs\n",
    "\n",
    "driver = webdriver.Chrome(\"/Users/naver/Downloads/chromedriver\")"
   ]
  },
  {
   "cell_type": "code",
   "execution_count": 3,
   "metadata": {},
   "outputs": [],
   "source": [
    "# code로 접근 가능한 url\n",
    "code_url = \"https://finance.naver.com/item/main.nhn?code=\"\n",
    "# 종목 분석 url\n",
    "coinfo_url = \"https://finance.naver.com/item/coinfo.nhn?code=\"\n",
    "# 종목 분석 url (!naver)\n",
    "coinfo_url_2 = \"https://navercomp.wisereport.co.kr/v2/company/c1050001.aspx?cmp_cd=%s&cn=\"\n",
    "# 시가총액 목록 url\n",
    "size_market_url = \"https://finance.naver.com/sise/sise_market_sum.nhn?&page=\""
   ]
  },
  {
   "cell_type": "code",
   "execution_count": 292,
   "metadata": {},
   "outputs": [],
   "source": [
    "# 오늘의 시가총액 code 목록 구하기 (50 * 5)\n",
    "# codeL = []\n",
    "# for i in range(1,6):\n",
    "#     driver.get(size_market_url+str(i))\n",
    "#     tempL = driver.find_elements_by_css_selector(\"#contentarea > div.box_type_l > table.type_2 > tbody > tr > td.center > a\")\n",
    "#     tempL = [x.get_attribute(\"href\").split(\"code=\")[1] for x in tempL]\n",
    "#     codeL += tempL\n",
    "\n",
    "# 컨센서스 없는 종목 제외\n",
    "removeL = [\"005935\",\"069500\",\"088980\", \"102110\", \"005387\"]\n",
    "for rem in removeL:\n",
    "    codeL.remove(rem)\n",
    "    "
   ]
  },
  {
   "cell_type": "code",
   "execution_count": 306,
   "metadata": {},
   "outputs": [],
   "source": [
    "# 오늘의 시가총액 code 목록 저장 \n",
    "# todayDate = datetime.datetime.now().strftime(\"%Y_%b_%d\")\n",
    "# f = open(\"./\"+todayDate+\"_시가총액_상위권.txt\", 'w')\n",
    "# f.write(\"\\n\".join(codeL))\n",
    "# f.close()\n",
    "\n",
    "# 오늘의 시가총액 code 목록 불러오기\n",
    "useDate = \"2020_Feb_10\"\n",
    "f = open(\"./\"+useDate+\"_시가총액_상위권.txt\", \"r\")\n",
    "codeL = [x.replace(\"\\n\", \"\") for x in f.readlines()]\n",
    "f.close()"
   ]
  },
  {
   "cell_type": "markdown",
   "metadata": {},
   "source": [
    "---\n",
    "\n",
    "### 컨센서스 확인 함수"
   ]
  },
  {
   "cell_type": "code",
   "execution_count": 158,
   "metadata": {},
   "outputs": [],
   "source": [
    "# 삼성전자 확인\n",
    "driver.get(coinfo_url_2.replace(\"%s\", codeL[0]))"
   ]
  },
  {
   "cell_type": "code",
   "execution_count": 214,
   "metadata": {},
   "outputs": [
    {
     "data": {
      "text/plain": [
       "'https://navercomp.wisereport.co.kr/v2/company/c1050001.aspx?cmp_cd=005930&cn='"
      ]
     },
     "execution_count": 214,
     "metadata": {},
     "output_type": "execute_result"
    }
   ],
   "source": [
    "coinfo_url_2.replace(\"%s\", codeL[0])"
   ]
  },
  {
   "cell_type": "code",
   "execution_count": 223,
   "metadata": {},
   "outputs": [],
   "source": [
    "soup = bs(requests.get(coinfo_url_2.replace(\"%s\", codeL[0])).text, 'html.parser')"
   ]
  },
  {
   "cell_type": "code",
   "execution_count": 224,
   "metadata": {},
   "outputs": [
    {
     "data": {
      "text/plain": [
       "[]"
      ]
     },
     "execution_count": 224,
     "metadata": {},
     "output_type": "execute_result"
    }
   ],
   "source": [
    "soup.select(\"#pArea > div.wrapper-table > div > table > tbody > tr:nth-child(1) > td > dl > dt:nth-child(1) > span\")"
   ]
  },
  {
   "cell_type": "code",
   "execution_count": 226,
   "metadata": {},
   "outputs": [
    {
     "data": {
      "text/plain": [
       "'https://navercomp.wisereport.co.kr/v2/company/c1050001.aspx?cmp_cd=005930&cn='"
      ]
     },
     "execution_count": 226,
     "metadata": {},
     "output_type": "execute_result"
    }
   ],
   "source": [
    "coinfo_url_2.replace(\"%s\", codeL[0])"
   ]
  },
  {
   "cell_type": "code",
   "execution_count": 230,
   "metadata": {},
   "outputs": [],
   "source": [
    "consenUrl = \"https://navercomp.wisereport.co.kr/company/ajax/c1050001_data.aspx?flag=2&cmp_cd=005930&finGubun=MAIN&frq=0&sDT=20200207&chartType=svg\""
   ]
  },
  {
   "cell_type": "code",
   "execution_count": 233,
   "metadata": {},
   "outputs": [
    {
     "data": {
      "text/html": [
       "<div>\n",
       "<style scoped>\n",
       "    .dataframe tbody tr th:only-of-type {\n",
       "        vertical-align: middle;\n",
       "    }\n",
       "\n",
       "    .dataframe tbody tr th {\n",
       "        vertical-align: top;\n",
       "    }\n",
       "\n",
       "    .dataframe thead th {\n",
       "        text-align: right;\n",
       "    }\n",
       "</style>\n",
       "<table border=\"1\" class=\"dataframe\">\n",
       "  <thead>\n",
       "    <tr style=\"text-align: right;\">\n",
       "      <th></th>\n",
       "      <th>YYMM</th>\n",
       "      <th>SALES</th>\n",
       "      <th>YOY</th>\n",
       "      <th>OP</th>\n",
       "      <th>NP</th>\n",
       "      <th>EPS</th>\n",
       "      <th>BPS</th>\n",
       "      <th>PER</th>\n",
       "      <th>PBR</th>\n",
       "      <th>ROE</th>\n",
       "      <th>EV</th>\n",
       "      <th>MAIN</th>\n",
       "      <th>TOT_ROW</th>\n",
       "    </tr>\n",
       "  </thead>\n",
       "  <tbody>\n",
       "    <tr>\n",
       "      <th>0</th>\n",
       "      <td>2015.12(A)</td>\n",
       "      <td>912.8</td>\n",
       "      <td></td>\n",
       "      <td>-2,036.4</td>\n",
       "      <td>19,049.5</td>\n",
       "      <td>38,489</td>\n",
       "      <td>50,326</td>\n",
       "      <td></td>\n",
       "      <td></td>\n",
       "      <td>107.38</td>\n",
       "      <td></td>\n",
       "      <td>IFRS별도</td>\n",
       "      <td>7</td>\n",
       "    </tr>\n",
       "    <tr>\n",
       "      <th>1</th>\n",
       "      <td>2016.12(A)</td>\n",
       "      <td>2,946.2</td>\n",
       "      <td>222.77</td>\n",
       "      <td>-304.2</td>\n",
       "      <td>-1,768.2</td>\n",
       "      <td>-3,113</td>\n",
       "      <td>61,700</td>\n",
       "      <td>-48.50</td>\n",
       "      <td>2.45</td>\n",
       "      <td>-5.16</td>\n",
       "      <td>324.07</td>\n",
       "      <td>IFRS별도</td>\n",
       "      <td>7</td>\n",
       "    </tr>\n",
       "    <tr>\n",
       "      <th>2</th>\n",
       "      <td>2017.12(A)</td>\n",
       "      <td>4,646.3</td>\n",
       "      <td>57.70</td>\n",
       "      <td>659.8</td>\n",
       "      <td>-969.7</td>\n",
       "      <td>-1,466</td>\n",
       "      <td>60,099</td>\n",
       "      <td>-253.14</td>\n",
       "      <td>6.17</td>\n",
       "      <td>-2.41</td>\n",
       "      <td>182.00</td>\n",
       "      <td>IFRS별도</td>\n",
       "      <td>7</td>\n",
       "    </tr>\n",
       "    <tr>\n",
       "      <th>3</th>\n",
       "      <td>2018.12(A)</td>\n",
       "      <td>5,358.1</td>\n",
       "      <td>15.32</td>\n",
       "      <td>556.8</td>\n",
       "      <td>2,241.1</td>\n",
       "      <td>3,387</td>\n",
       "      <td>62,805</td>\n",
       "      <td>114.11</td>\n",
       "      <td>6.15</td>\n",
       "      <td>5.51</td>\n",
       "      <td>172.21</td>\n",
       "      <td>IFRS별도</td>\n",
       "      <td>7</td>\n",
       "    </tr>\n",
       "    <tr>\n",
       "      <th>4</th>\n",
       "      <td>2019.12(E)</td>\n",
       "      <td>5,983.5</td>\n",
       "      <td>11.67</td>\n",
       "      <td>298.1</td>\n",
       "      <td>454.3</td>\n",
       "      <td>687</td>\n",
       "      <td>63,319</td>\n",
       "      <td>636.44</td>\n",
       "      <td>6.90</td>\n",
       "      <td>1.09</td>\n",
       "      <td>184.29</td>\n",
       "      <td>IFRS별도</td>\n",
       "      <td>7</td>\n",
       "    </tr>\n",
       "    <tr>\n",
       "      <th>5</th>\n",
       "      <td>2020.12(E)</td>\n",
       "      <td>9,318.7</td>\n",
       "      <td>55.74</td>\n",
       "      <td>1,979.6</td>\n",
       "      <td>2,366.2</td>\n",
       "      <td>3,576</td>\n",
       "      <td>68,265</td>\n",
       "      <td>145.13</td>\n",
       "      <td>7.60</td>\n",
       "      <td>5.44</td>\n",
       "      <td>104.20</td>\n",
       "      <td>IFRS별도</td>\n",
       "      <td>7</td>\n",
       "    </tr>\n",
       "    <tr>\n",
       "      <th>6</th>\n",
       "      <td>2021.12(E)</td>\n",
       "      <td>12,070.0</td>\n",
       "      <td>29.52</td>\n",
       "      <td>3,327.4</td>\n",
       "      <td>3,717.9</td>\n",
       "      <td>5,619</td>\n",
       "      <td>73,437</td>\n",
       "      <td>92.36</td>\n",
       "      <td>7.07</td>\n",
       "      <td>7.93</td>\n",
       "      <td>73.71</td>\n",
       "      <td>IFRS별도</td>\n",
       "      <td>7</td>\n",
       "    </tr>\n",
       "  </tbody>\n",
       "</table>\n",
       "</div>"
      ],
      "text/plain": [
       "         YYMM     SALES     YOY        OP        NP     EPS     BPS      PER  \\\n",
       "0  2015.12(A)     912.8          -2,036.4  19,049.5  38,489  50,326            \n",
       "1  2016.12(A)   2,946.2  222.77    -304.2  -1,768.2  -3,113  61,700   -48.50   \n",
       "2  2017.12(A)   4,646.3   57.70     659.8    -969.7  -1,466  60,099  -253.14   \n",
       "3  2018.12(A)   5,358.1   15.32     556.8   2,241.1   3,387  62,805   114.11   \n",
       "4  2019.12(E)   5,983.5   11.67     298.1     454.3     687  63,319   636.44   \n",
       "5  2020.12(E)   9,318.7   55.74   1,979.6   2,366.2   3,576  68,265   145.13   \n",
       "6  2021.12(E)  12,070.0   29.52   3,327.4   3,717.9   5,619  73,437    92.36   \n",
       "\n",
       "    PBR     ROE      EV    MAIN  TOT_ROW  \n",
       "0        107.38          IFRS별도        7  \n",
       "1  2.45   -5.16  324.07  IFRS별도        7  \n",
       "2  6.17   -2.41  182.00  IFRS별도        7  \n",
       "3  6.15    5.51  172.21  IFRS별도        7  \n",
       "4  6.90    1.09  184.29  IFRS별도        7  \n",
       "5  7.60    5.44  104.20  IFRS별도        7  \n",
       "6  7.07    7.93   73.71  IFRS별도        7  "
      ]
     },
     "execution_count": 233,
     "metadata": {},
     "output_type": "execute_result"
    }
   ],
   "source": [
    "pd.DataFrame(requests.get(consenUrl).json()[\"JsonData\"])"
   ]
  },
  {
   "cell_type": "code",
   "execution_count": 244,
   "metadata": {},
   "outputs": [
    {
     "data": {
      "text/plain": [
       "'삼성전자'"
      ]
     },
     "execution_count": 244,
     "metadata": {},
     "output_type": "execute_result"
    }
   ],
   "source": [
    "soup = bs(requests.get(code_url + \"005930\").text, 'html.parser')\n",
    "name = soup.select_one(\"#middle > div.h_company > div.wrap_company > h2 > a\").text\n",
    "name"
   ]
  },
  {
   "cell_type": "code",
   "execution_count": 250,
   "metadata": {},
   "outputs": [],
   "source": [
    "def Consensus_selenium(code):\n",
    "    driver.get(coinfo_url_2.replace(\"%s\", code))\n",
    "    \n",
    "    # 종목 이름\n",
    "    name = driver.find_element_by_css_selector(\"#pArea > div.wrapper-table > div > table > tbody > tr:nth-child(1) > td > dl > dt:nth-child(1) > span\").text\n",
    "    \n",
    "    # 컨센서스 테이블 구축\n",
    "    table = driver.find_element_by_css_selector(\"#cTB511\")\n",
    "    tableRow = table.find_element_by_css_selector(\"tbody\")\n",
    "    columnL = table.find_element_by_css_selector(\"thead\").text.replace(\"\\n\",\"\").split(\" \")\n",
    "    thL = [x.find_element_by_css_selector(\"th\").text for x in tableRow.find_elements_by_css_selector(\"tr\")]\n",
    "    trL = [[\"0\" if y.text ==\"\" else y.text for y in x.find_elements_by_css_selector(\"td\")] for x in tableRow.find_elements_by_css_selector(\"tr\")]\n",
    "    for idx in range(len(trL)):\n",
    "        trL[idx].insert(0,thL[idx])\n",
    "    df_table = pd.DataFrame(trL, columns = columnL)\n",
    "\n",
    "    # 매출액 ~ EV/EBITDA 숫자형으로 변경\n",
    "    df_table.iloc[:, 1:-1] = df_table.iloc[:,1:-1].applymap(lambda x: float(x.replace(\",\",\"\")))\n",
    "    \n",
    "    # 증감 결과 df table로 확인\n",
    "    result_row = [0]*12\n",
    "    for inc in [1, 2, 3, 4, 5, 6, 9]:\n",
    "        if(increasing(df_table.iloc[:, inc])):\n",
    "            result_row[inc] = 1\n",
    "    for dec in [7, 8, 10]:\n",
    "        if(decreasing(df_table.iloc[:, dec])):\n",
    "            result_row[dec] = 1\n",
    "\n",
    "    result_df = pd.DataFrame([result_row], columns = df_table.columns)\n",
    "    df_table.append(result_df, ignore_index = True)\n",
    "    \n",
    "     #증감 결과 매출액 / 영업이익 / per * 10 roe * 5\n",
    "    formula = [0,10,1,10,1,1,1,10,1,5,1,0]\n",
    "    score = np.dot(result_row,formula)\n",
    "    \n",
    "    print(code,name, score)\n",
    "    if(score > 20):\n",
    "        print(df_table.iloc[:, 1:-1])"
   ]
  },
  {
   "cell_type": "code",
   "execution_count": 290,
   "metadata": {},
   "outputs": [
    {
     "data": {
      "text/plain": [
       "'현대차2우B'"
      ]
     },
     "execution_count": 290,
     "metadata": {},
     "output_type": "execute_result"
    }
   ],
   "source": [
    "# 종목 이름 얻기\n",
    "code = \"005387\"\n",
    "soup = bs(requests.get(code_url + code).text, 'html.parser')\n",
    "name = soup.select_one(\"#middle > div.h_company > div.wrap_company > h2 > a\").text\n",
    "name"
   ]
  },
  {
   "cell_type": "code",
   "execution_count": null,
   "metadata": {},
   "outputs": [],
   "source": []
  },
  {
   "cell_type": "code",
   "execution_count": 315,
   "metadata": {},
   "outputs": [],
   "source": [
    "def Consensus(code):\n",
    "        \n",
    "    # 종목 이름 얻기\n",
    "    soup = bs(requests.get(code_url + code).text, 'html.parser')\n",
    "    name = soup.select_one(\"#middle > div.h_company > div.wrap_company > h2 > a\").text\n",
    "    \n",
    "    # 컨센서스 테이블 구축\n",
    "    consenUrl = \"https://navercomp.wisereport.co.kr/company/ajax/c1050001_data.aspx?flag=2&cmp_cd=\"\\\n",
    "                + code + \"&finGubun=MAIN&frq=0&chartType=svg\"\n",
    "    if(requests.get(consenUrl).json()[\"JsonData\"] == []):\n",
    "        return \n",
    "    df_table = pd.DataFrame(requests.get(consenUrl).json()[\"JsonData\"]).iloc[:, :-1]\n",
    "\n",
    "    # 매출액 ~ EV/EBITDA 숫자형으로 변경\n",
    "    df_table.iloc[:, 1:-1] = df_table.iloc[:,1:-1].applymap(lambda x: \"0\" if x == \"\" else x).applymap(lambda x: float(x.replace(\",\",\"\")))\n",
    "    \n",
    "    # 증감 결과 df table로 확인\n",
    "    result_row = [0]*12\n",
    "    for inc in [1, 2, 3, 4, 5, 6, 9]:\n",
    "        if(increasing(df_table.iloc[:, inc])):\n",
    "            result_row[inc] = 1\n",
    "    for dec in [7, 8, 10]:\n",
    "        if(decreasing(df_table.iloc[:, dec])):\n",
    "            result_row[dec] = 1\n",
    "\n",
    "    result_df = pd.DataFrame([result_row], columns = df_table.columns)\n",
    "    df_table.append(result_df, ignore_index = True)\n",
    "    \n",
    "     #증감 결과 매출액 / 영업이익 / per * 10 roe * 5\n",
    "    formula = [0,10,1,10,1,1,1,10,1,5,1,0]\n",
    "    score = np.dot(result_row,formula)\n",
    "    \n",
    "    print(code, name, score)\n",
    "#     if(score > 20):\n",
    "#         print(code, name, score)\n",
    "#         print(df_table.iloc[:, 1:-1])"
   ]
  },
  {
   "cell_type": "markdown",
   "metadata": {},
   "source": [
    "---\n",
    "\n",
    "## 시가총액 상위 50개의 컨센서스 확인"
   ]
  },
  {
   "cell_type": "code",
   "execution_count": 316,
   "metadata": {},
   "outputs": [
    {
     "name": "stdout",
     "output_type": "stream",
     "text": [
      "039130 하나투어 0\n",
      "    SALES   YOY     OP     NP     EPS      BPS     PER  PBR   ROE    EV\n",
      "0 4594.30 19.19 447.50 317.40 2732.00 17837.00   42.09 6.45 16.83 21.22\n",
      "1 5955.40 29.63 209.30  80.40  692.00 17122.00   95.55 3.86  4.16 15.77\n",
      "2 8043.40 35.06 411.10 131.80 1135.00 18876.00   90.75 5.46  6.62 15.79\n",
      "3 8282.70  2.98 248.70  87.50  753.00 18060.00   91.34 3.81  4.28 13.32\n",
      "4 7727.60 -6.70 110.40 -35.80 -308.00 16812.00 -159.21 2.91 -1.85  8.72\n",
      "5 8148.90  5.45 314.20 181.50 1562.00 20859.00   31.36 2.35  8.71  6.41\n",
      "6 8579.30  5.28 452.40 277.90 2392.00 22178.00   20.49 2.21 11.67  5.19\n"
     ]
    }
   ],
   "source": [
    "Consensus(\"039130\")"
   ]
  },
  {
   "cell_type": "code",
   "execution_count": 311,
   "metadata": {
    "scrolled": true
   },
   "outputs": [
    {
     "name": "stdout",
     "output_type": "stream",
     "text": [
      "051900 LG생활건강 23\n",
      "018260 삼성에스디에스 23\n",
      "271560 오리온 23\n",
      "088980 맥쿼리인프라 41\n",
      "000120 CJ대한통운 21\n",
      "282330 BGF리테일 21\n",
      "012510 더존비즈온 23\n",
      "030000 제일기획 22\n",
      "001040 CJ 22\n",
      "007310 오뚜기 21\n",
      "181710 NHN 21\n",
      "009420 한올바이오파마 21\n",
      "280360 롯데제과 27\n",
      "192080 더블유게임즈 21\n",
      "284740 쿠쿠홈시스 28\n",
      "336370 두산솔루스 28\n",
      "298020 효성티앤씨 23\n",
      "003230 삼양식품 23\n",
      "286940 롯데정보통신 21\n"
     ]
    }
   ],
   "source": [
    "for i in range(250):\n",
    "    Consensus(codeL[i])"
   ]
  },
  {
   "cell_type": "code",
   "execution_count": null,
   "metadata": {},
   "outputs": [],
   "source": []
  }
 ],
 "metadata": {
  "kernelspec": {
   "display_name": "finance",
   "language": "python",
   "name": "finanace"
  },
  "language_info": {
   "codemirror_mode": {
    "name": "ipython",
    "version": 3
   },
   "file_extension": ".py",
   "mimetype": "text/x-python",
   "name": "python",
   "nbconvert_exporter": "python",
   "pygments_lexer": "ipython3",
   "version": "3.7.3"
  }
 },
 "nbformat": 4,
 "nbformat_minor": 4
}
