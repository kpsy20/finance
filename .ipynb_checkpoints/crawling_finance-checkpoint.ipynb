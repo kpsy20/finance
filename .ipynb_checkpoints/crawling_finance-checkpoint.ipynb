{
 "cells": [
  {
   "cell_type": "code",
   "execution_count": 1,
   "metadata": {},
   "outputs": [],
   "source": [
    "import pandas as pd\n",
    "# 과학적 표기 안하도록\n",
    "pd.options.display.float_format = '{:.2f}'.format\n",
    "\n",
    "import numpy as np\n",
    "import datetime"
   ]
  },
  {
   "cell_type": "markdown",
   "metadata": {},
   "source": [
    "---\n",
    "### 증감 결과 확인을 위한 함수"
   ]
  },
  {
   "cell_type": "code",
   "execution_count": 2,
   "metadata": {},
   "outputs": [],
   "source": [
    "def increasing(col):\n",
    "    for i in range(len(col)):\n",
    "        if(i == 0):\n",
    "            temp = col[i]\n",
    "        else:\n",
    "            if(temp > col[i]):\n",
    "                return 0\n",
    "            temp = col[i]\n",
    "    return 1 \n",
    "\n",
    "def decreasing(col):\n",
    "    for i in range(len(col)):\n",
    "        if(i==0):\n",
    "            temp = col[i]\n",
    "        else:\n",
    "            if(temp < col[i]):\n",
    "                return 0\n",
    "            temp = col[i]\n",
    "    return 1"
   ]
  },
  {
   "cell_type": "markdown",
   "metadata": {},
   "source": [
    "---\n",
    "### selenium으로 크롤링\n"
   ]
  },
  {
   "cell_type": "code",
   "execution_count": 3,
   "metadata": {},
   "outputs": [],
   "source": [
    "import requests\n",
    "from bs4 import BeautifulSoup as bs"
   ]
  },
  {
   "cell_type": "code",
   "execution_count": 5,
   "metadata": {},
   "outputs": [],
   "source": [
    "# code로 접근 가능한 url\n",
    "code_url = \"https://finance.naver.com/item/main.nhn?code=\"\n",
    "# 종목 분석 url\n",
    "coinfo_url = \"https://finance.naver.com/item/coinfo.nhn?code=\"\n",
    "# 종목 분석 url (!naver)\n",
    "coinfo_url_2 = \"https://navercomp.wisereport.co.kr/v2/company/c1050001.aspx?cmp_cd=%s&cn=\"\n",
    "# 시가총액 목록 url\n",
    "size_market_url_0 = \"https://finance.naver.com/sise/sise_market_sum.nhn?sosok=0&page=\"\n",
    "\n",
    "size_market_url_1 = \"https://finance.naver.com/sise/sise_market_sum.nhn?sosok=1&page=\""
   ]
  },
  {
   "cell_type": "code",
   "execution_count": 39,
   "metadata": {},
   "outputs": [],
   "source": [
    "# 오늘의 시가총액 상위 400 code 목록 구하기\n",
    "\n",
    "codeL = []\n",
    "# 코스피 상위 300\n",
    "for i in range(1,7):\n",
    "    soup = bs(requests.get(size_market_url_0+str(i)).text, 'html.parser')\n",
    "    tempL = [x.attrs[\"href\"].split(\"code=\")[1] for x in soup.select(\"table \")[1].select_one(\"tbody\").select(\"a.tltle\")]\n",
    "    codeL += tempL\n",
    "# 코스닥 상위 100\n",
    "for i in range(1, 3):\n",
    "    soup = bs(requests.get(size_market_url_1+str(i)).text, 'html.parser')\n",
    "    tempL = [x.attrs[\"href\"].split(\"code=\")[1] for x in soup.select(\"table \")[1].select_one(\"tbody\").select(\"a.tltle\")]\n",
    "    codeL += tempL\n",
    "             "
   ]
  },
  {
   "cell_type": "code",
   "execution_count": 43,
   "metadata": {},
   "outputs": [],
   "source": [
    "# 오늘의 시가총액 code 목록 저장 \n",
    "todayDate = datetime.datetime.now().strftime(\"%Y_%b_%d\")\n",
    "f = open(\"./\"+todayDate+\"_시가총액_상위권.txt\", 'w')\n",
    "f.write(\"\\n\".join(codeL))\n",
    "f.close()\n",
    "\n",
    "# 오늘의 시가총액 code 목록 불러오기\n",
    "useDate = \"2020_Feb_10\"\n",
    "f = open(\"./\"+useDate+\"_시가총액_상위권.txt\", \"r\")\n",
    "codeL = [x.replace(\"\\n\", \"\") for x in f.readlines()]\n",
    "f.close()"
   ]
  },
  {
   "cell_type": "markdown",
   "metadata": {},
   "source": [
    "---\n",
    "\n",
    "### 컨센서스 확인 함수"
   ]
  },
  {
   "cell_type": "code",
   "execution_count": 44,
   "metadata": {},
   "outputs": [
    {
     "data": {
      "text/plain": [
       "'현대차2우B'"
      ]
     },
     "execution_count": 44,
     "metadata": {},
     "output_type": "execute_result"
    }
   ],
   "source": [
    "# 종목 이름 얻기\n",
    "code = \"005387\"\n",
    "soup = bs(requests.get(code_url + code).text, 'html.parser')\n",
    "name = soup.select_one(\"#middle > div.h_company > div.wrap_company > h2 > a\").text\n",
    "name"
   ]
  },
  {
   "cell_type": "code",
   "execution_count": 46,
   "metadata": {},
   "outputs": [],
   "source": [
    "def Consensus(code):\n",
    "    code = str(code)\n",
    "        \n",
    "    # 종목 이름 얻기\n",
    "    soup = bs(requests.get(code_url + code).text, 'html.parser')\n",
    "    name = soup.select_one(\"#middle > div.h_company > div.wrap_company > h2 > a\").text\n",
    "    \n",
    "    # 컨센서스 테이블 구축\n",
    "    consenUrl = \"https://navercomp.wisereport.co.kr/company/ajax/c1050001_data.aspx?flag=2&cmp_cd=\"\\\n",
    "                + code + \"&finGubun=MAIN&frq=0&chartType=svg\"\n",
    "    if(requests.get(consenUrl).json()[\"JsonData\"] == []):\n",
    "        return \n",
    "    df_table = pd.DataFrame(requests.get(consenUrl).json()[\"JsonData\"]).iloc[:, :-1]\n",
    "\n",
    "    # 매출액 ~ EV/EBITDA 숫자형으로 변경\n",
    "    df_table.iloc[:, 1:-1] = df_table.iloc[:,1:-1].applymap(lambda x: \"0\" if x == \"\" else x).applymap(lambda x: float(x.replace(\",\",\"\")))\n",
    "    \n",
    "    # 증감 결과 df table로 확인\n",
    "    result_row = [0]*12\n",
    "    for inc in [1, 2, 3, 4, 5, 6, 9]:\n",
    "        if(increasing(df_table.iloc[:, inc])):\n",
    "            result_row[inc] = 1\n",
    "    for dec in [7, 8, 10]:\n",
    "        if(decreasing(df_table.iloc[:, dec])):\n",
    "            result_row[dec] = 1\n",
    "\n",
    "    result_df = pd.DataFrame([result_row], columns = df_table.columns)\n",
    "    df_table.append(result_df, ignore_index = True)\n",
    "    \n",
    "     #증감 결과 매출액 / 영업이익 / per * 10 roe * 5\n",
    "    formula = [0,10,1,10,1,1,1,10,1,5,1,0]\n",
    "    score = np.dot(result_row,formula)\n",
    "    \n",
    "#     print(code, name, score)\n",
    "    if(score > 20):\n",
    "        print(code, name, score)\n",
    "#         print(df_table.iloc[:, 1:-1])"
   ]
  },
  {
   "cell_type": "markdown",
   "metadata": {},
   "source": [
    "---\n",
    "\n",
    "## 시가총액 상위 400개의 컨센서스 확인"
   ]
  },
  {
   "cell_type": "code",
   "execution_count": null,
   "metadata": {
    "scrolled": true
   },
   "outputs": [],
   "source": [
    "for i in range(400):\n",
    "    Consensus(codeL[i])"
   ]
  },
  {
   "cell_type": "code",
   "execution_count": null,
   "metadata": {},
   "outputs": [],
   "source": []
  }
 ],
 "metadata": {
  "kernelspec": {
   "display_name": "finance",
   "language": "python",
   "name": "finanace"
  },
  "language_info": {
   "codemirror_mode": {
    "name": "ipython",
    "version": 3
   },
   "file_extension": ".py",
   "mimetype": "text/x-python",
   "name": "python",
   "nbconvert_exporter": "python",
   "pygments_lexer": "ipython3",
   "version": "3.7.3"
  }
 },
 "nbformat": 4,
 "nbformat_minor": 4
}
