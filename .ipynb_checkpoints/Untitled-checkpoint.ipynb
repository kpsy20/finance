{
 "cells": [
  {
   "cell_type": "code",
   "execution_count": 9,
   "metadata": {},
   "outputs": [
    {
     "name": "stdout",
     "output_type": "stream",
     "text": [
      "[2, 1, 3, 1, 1, 0]\n",
      "[2, 1, 2, 1, 0]\n",
      "[4, 3, 1, 1, 0]\n"
     ]
    }
   ],
   "source": [
    "def solution(prices):\n",
    "    stay = []\n",
    "    for i in range(len(prices)-1):\n",
    "        for j in range(i+1,len(prices)):\n",
    "            if prices[i] > prices[j]:\n",
    "                stay.append(j-i)\n",
    "                break\n",
    "            \n",
    "        if(len(stay) < i+1):\n",
    "            stay.append(len(prices)-i-1)\n",
    "            \n",
    "    stay.append(0)\n",
    "    return stay\n",
    "                \n",
    "        \n",
    "\n",
    "print(solution([2,4,1,5,1,2]))\n",
    "print(solution([2,3,1,3,2]))\n",
    "print(solution([1,2,3,2,3]))"
   ]
  },
  {
   "cell_type": "code",
   "execution_count": null,
   "metadata": {},
   "outputs": [],
   "source": []
  }
 ],
 "metadata": {
  "kernelspec": {
   "display_name": "Python 3",
   "language": "python",
   "name": "python3"
  },
  "language_info": {
   "codemirror_mode": {
    "name": "ipython",
    "version": 3
   },
   "file_extension": ".py",
   "mimetype": "text/x-python",
   "name": "python",
   "nbconvert_exporter": "python",
   "pygments_lexer": "ipython3",
   "version": "3.7.3"
  }
 },
 "nbformat": 4,
 "nbformat_minor": 4
}
