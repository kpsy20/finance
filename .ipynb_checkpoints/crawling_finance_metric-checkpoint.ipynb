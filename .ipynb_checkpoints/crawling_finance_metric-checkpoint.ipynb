{
 "cells": [
  {
   "cell_type": "code",
   "execution_count": 1,
   "metadata": {},
   "outputs": [],
   "source": [
    "import pandas as pd\n",
    "# 과학적 표기 안하도록\n",
    "pd.options.display.float_format = '{:.2f}'.format\n",
    "\n",
    "import numpy as np\n",
    "import datetime"
   ]
  },
  {
   "cell_type": "markdown",
   "metadata": {},
   "source": [
    "---\n",
    "### request+bs로 크롤링\n"
   ]
  },
  {
   "cell_type": "code",
   "execution_count": 2,
   "metadata": {},
   "outputs": [],
   "source": [
    "import requests\n",
    "from bs4 import BeautifulSoup as bs"
   ]
  },
  {
   "cell_type": "code",
   "execution_count": 3,
   "metadata": {},
   "outputs": [],
   "source": [
    "# code로 접근 가능한 url\n",
    "code_url = \"https://finance.naver.com/item/main.nhn?code=\"\n",
    "# 종목 분석 url\n",
    "coinfo_url = \"https://finance.naver.com/item/coinfo.nhn?code=\"\n",
    "# 종목 분석 url (!naver)\n",
    "coinfo_url_2 = \"https://navercomp.wisereport.co.kr/v2/company/c1050001.aspx?cmp_cd=%s&cn=\"\n",
    "# 시가총액 목록 url\n",
    "size_market_url_0 = \"https://finance.naver.com/sise/sise_market_sum.nhn?sosok=0&page=\"\n",
    "size_market_url_1 = \"https://finance.naver.com/sise/sise_market_sum.nhn?sosok=1&page=\""
   ]
  },
  {
   "cell_type": "markdown",
   "metadata": {},
   "source": [
    "---\n",
    "\n",
    "### 시가총액 목록 사용하기"
   ]
  },
  {
   "cell_type": "code",
   "execution_count": 6,
   "metadata": {},
   "outputs": [],
   "source": [
    "# 시가총액 300억 이하 목록 구하기\n",
    "codeL = []\n",
    "\n",
    "# 코스피 300억 이하 (후보)\n",
    "# for i in range(19, 33):\n",
    "for i in range(1, 33):\n",
    "    soup = bs(requests.get(size_market_url_0+str(i)).text, 'html.parser')\n",
    "    tempL = [x.attrs[\"href\"].split(\"code=\")[1] for x in soup.select(\"table \")[1].select_one(\"tbody\").select(\"a.tltle\")]\n",
    "    codeL += tempL\n",
    "\n",
    "# 코스닥 300억 이하 (후보)\n",
    "# for i in range(22, 30):\n",
    "for i in range(1, 30):\n",
    "    soup = bs(requests.get(size_market_url_1+str(i)).text, 'html.parser')\n",
    "    tempL = [x.attrs[\"href\"].split(\"code=\")[1] for x in soup.select(\"table \")[1].select_one(\"tbody\").select(\"a.tltle\")]\n",
    "    codeL += tempL\n",
    "    "
   ]
  },
  {
   "cell_type": "code",
   "execution_count": 7,
   "metadata": {},
   "outputs": [],
   "source": [
    "# 오늘의 시가총액 code 목록 저장 \n",
    "todayDate = datetime.datetime.now().strftime(\"%Y_%b_%d\")\n",
    "f = open(\"./\"+todayDate+\"_시가총액_하위권.txt\", 'w')\n",
    "f.write(\"\\n\".join(codeL))\n",
    "f.close()\n",
    "\n",
    "# 오늘의 시가총액 code 목록 불러오기\n",
    "useDate = todayDate\n",
    "# useDate = \"2020_Feb_18\"\n",
    "f = open(\"./\"+useDate+\"_시가총액_하위권.txt\", \"r\")\n",
    "codeL = [x.replace(\"\\n\", \"\") for x in f.readlines()]\n",
    "f.close()"
   ]
  },
  {
   "cell_type": "markdown",
   "metadata": {},
   "source": [
    "---\n",
    "\n",
    "<b>base code</b>\n"
   ]
  },
  {
   "cell_type": "code",
   "execution_count": 23,
   "metadata": {},
   "outputs": [],
   "source": [
    "def getSoupFromCode(code):\n",
    "    code_url = \"https://finance.naver.com/item/main.nhn?code=\"\n",
    "    soup = bs(requests.get(code_url + code).text, 'html.parser')\n",
    "    return soup\n",
    "\n",
    "def cleanText(text):\n",
    "    return text.replace(\"\\n\", \"\").replace(\"\\t\",\"\").replace(\"조\",\"\")\n",
    "\n",
    "def getName(code):\n",
    "    soup = getSoupFromCode(code)\n",
    "    name = soup.select_one(\"#middle > div.h_company > div.wrap_company > h2 > a\").text\n",
    "    return name\n",
    "\n",
    "def getSoupFromReport(code):\n",
    "    report_url = \"https://navercomp.wisereport.co.kr/v2/company/c1010001.aspx?cmp_cd=\"\n",
    "    soup = bs(requests.get(report_url + code).text, 'html.parser')\n",
    "    return soup\n",
    "\n",
    "def getMeanPer(code):\n",
    "    soup = getSoupFromReport(code)\n",
    "    try:\n",
    "        temp = [x.text.split()[1] for x in soup.select_one(\".td0301\").select(\".line-left\") if x.text.split()[0] == \"업종PER\"]\n",
    "    except:\n",
    "        return 0\n",
    "    per_str = [x.text.split()[1] for x in soup.select_one(\".td0301\").select(\".line-left\") if x.text.split()[0] == \"업종PER\"][0]\n",
    "    if(per_str == \"N/A\"):\n",
    "        return 0\n",
    "    return per_str\n"
   ]
  },
  {
   "cell_type": "markdown",
   "metadata": {},
   "source": [
    "---\n",
    "\n",
    "## 사용할 조건들\n",
    "\n",
    "- PBR 1 미만\n",
    "- PER 7 미만\n",
    "- 시총 300 미만\n",
    "- PCR 8 미만\n",
    "- POR 8 미만\n"
   ]
  },
  {
   "cell_type": "markdown",
   "metadata": {},
   "source": [
    "---\n",
    "\n",
    "#### etf 인가"
   ]
  },
  {
   "cell_type": "code",
   "execution_count": 16,
   "metadata": {},
   "outputs": [],
   "source": [
    "def isETF(code):\n",
    "    soup = getSoupFromCode(code)\n",
    "    if(len(soup.select(\".e_summary\")) == 0):\n",
    "        return False\n",
    "    return True"
   ]
  },
  {
   "cell_type": "markdown",
   "metadata": {},
   "source": [
    "#### etn 인가"
   ]
  },
  {
   "cell_type": "code",
   "execution_count": 17,
   "metadata": {},
   "outputs": [],
   "source": [
    "def isETN(code):\n",
    "    name = getName(code)\n",
    "    if(\"ETN\" in name):\n",
    "        return True\n",
    "    return False"
   ]
  },
  {
   "cell_type": "markdown",
   "metadata": {},
   "source": [
    "#### 시총 300억 미만인가"
   ]
  },
  {
   "cell_type": "code",
   "execution_count": 18,
   "metadata": {},
   "outputs": [],
   "source": [
    "def under300(code):\n",
    "    soup = getSoupFromCode(code)\n",
    "    \n",
    "    if(int(cleanText(soup.select_one(\"#_market_sum\").text)) < 300):\n",
    "        return True\n",
    "    return False    "
   ]
  },
  {
   "cell_type": "markdown",
   "metadata": {},
   "source": [
    "#### per 7 미만인가"
   ]
  },
  {
   "cell_type": "code",
   "execution_count": 19,
   "metadata": {},
   "outputs": [],
   "source": [
    "def perUnder7(code):\n",
    "    soup = getSoupFromReport(code)\n",
    "    try:\n",
    "        temp = [x.text.split()[1] for x in soup.select_one(\".td0301\").select(\".line-left\") if x.text.split()[0] == \"PER\"]\n",
    "    except:\n",
    "        return -1\n",
    "    per_str = [x.text.split()[1] for x in soup.select_one(\".td0301\").select(\".line-left\") if x.text.split()[0] == \"PER\"][0]\n",
    "    if(per_str == \"N/A\"):\n",
    "        return -1\n",
    "    if(float(per_str) < 7 and float(per_str) > 0):\n",
    "        return per_str\n",
    "    return -1\n",
    "    "
   ]
  },
  {
   "cell_type": "markdown",
   "metadata": {},
   "source": [
    "#### pbr 1 미만인가"
   ]
  },
  {
   "cell_type": "code",
   "execution_count": 20,
   "metadata": {},
   "outputs": [],
   "source": [
    "def pbrUnder1(code):\n",
    "    soup = getSoupFromReport(code)\n",
    "    try:\n",
    "        temp = [x.text.split()[1] for x in soup.select_one(\".td0301\").select(\".line-left\") if x.text.split()[0] == \"PBR\"]\n",
    "    except:\n",
    "        return -1\n",
    "    pbr_str = [x.text.split()[1] for x in soup.select_one(\".td0301\").select(\".line-left\") if x.text.split()[0] == \"PBR\"][0]\n",
    "    if(float(pbr_str) < 1 and float(pbr_str) > 0):\n",
    "        return pbr_str\n",
    "    return -1\n"
   ]
  },
  {
   "cell_type": "markdown",
   "metadata": {},
   "source": [
    "---\n",
    "\n",
    "## 괜찮은 종목 거르기"
   ]
  },
  {
   "cell_type": "code",
   "execution_count": null,
   "metadata": {},
   "outputs": [
    {
     "name": "stdout",
     "output_type": "stream",
     "text": [
      "005930\n",
      "000660\n",
      "005935\n",
      "207940\n",
      "068270\n",
      "035420\n",
      "051910\n",
      "005380\n",
      "051900\n",
      "028260\n",
      "006400\n",
      "012330\n",
      "017670\n",
      "036570\n",
      "005490\n",
      "105560\n"
     ]
    }
   ],
   "source": [
    "good = []\n",
    "\n",
    "for code in codeL:\n",
    "    if(isETF(code)):\n",
    "        continue\n",
    "    if(isETN(code)):\n",
    "        continue\n",
    "#     if(under300(code) == False):\n",
    "#         continue\n",
    "    print(code)\n",
    "    per = perUnder7(code)\n",
    "    if(per == -1):\n",
    "        continue\n",
    "    pbr = pbrUnder1(code)\n",
    "    if(pbr == -1):\n",
    "        continue\n",
    "    name = getName(code)\n",
    "    good.append(name + \" \" + str(per) + \" \" + str(pbr))\n",
    "    print(name, per, pbr)"
   ]
  },
  {
   "cell_type": "code",
   "execution_count": 25,
   "metadata": {},
   "outputs": [
    {
     "data": {
      "text/plain": [
       "39"
      ]
     },
     "execution_count": 25,
     "metadata": {},
     "output_type": "execute_result"
    }
   ],
   "source": [
    "len(good)"
   ]
  },
  {
   "cell_type": "code",
   "execution_count": null,
   "metadata": {},
   "outputs": [],
   "source": [
    "good"
   ]
  },
  {
   "cell_type": "markdown",
   "metadata": {},
   "source": [
    "---\n",
    "\n",
    "## 나의 네이버증권 셋팅하기"
   ]
  },
  {
   "cell_type": "code",
   "execution_count": 13,
   "metadata": {},
   "outputs": [],
   "source": [
    "from selenium import webdriver\n",
    "from selenium.webdriver.common.alert import Alert\n",
    "from selenium.webdriver.common.keys import Keys\n",
    "\n",
    "import time"
   ]
  },
  {
   "cell_type": "code",
   "execution_count": 14,
   "metadata": {},
   "outputs": [],
   "source": [
    "# 미리 로그인\n",
    "driver = webdriver.Chrome('./chromedriver')\n",
    "itemListUrl = \"https://finance.naver.com/mystock/itemList.nhn?groupId=6&type=OVERALL\"\n",
    "driver.get(itemListUrl)"
   ]
  },
  {
   "cell_type": "code",
   "execution_count": 16,
   "metadata": {},
   "outputs": [
    {
     "name": "stdout",
     "output_type": "stream",
     "text": [
      "https://finance.naver.com/mystock/itemList.nhn?groupId=6&type=OVERALL\n",
      "https://finance.naver.com/mystock/itemList.nhn?groupId=7&type=OVERALL\n",
      "https://finance.naver.com/mystock/itemList.nhn?groupId=8&type=OVERALL\n"
     ]
    }
   ],
   "source": [
    "for group in range(6, 9):\n",
    "\n",
    "    # 링크 접속 및 로그인\n",
    "    itemListUrl = \"https://finance.naver.com/mystock/itemList.nhn?groupId=%s&type=OVERALL\" % str(group)\n",
    "    print(itemListUrl )\n",
    "    \n",
    "    # 기존 관심 종목 삭제\n",
    "    time.sleep(0.5)\n",
    "    driver.get(itemListUrl)\n",
    "    time.sleep(0.5)\n",
    "    driver.find_element_by_css_selector(\"#all_select\").click()\n",
    "    time.sleep(0.5)\n",
    "    driver.find_element_by_css_selector(\"#wrap > div.section_mys > div.group_mystb.NE\\=a\\:lst > div:nth-child(2) > button.btn_del.NPI\\=a\\:del\").click()\n",
    "    time.sleep(0.5)\n",
    "    Alert(driver).accept()\n",
    "    \n",
    "    # 적합 종목 리스트 찾기\n",
    "    if(group == 6):\n",
    "        useL = score25_code.copy()\n",
    "    elif(group == 7):\n",
    "        useL = score23_code.copy()\n",
    "    elif(group == 8):\n",
    "        useL = score20_code.copy()\n",
    "            \n",
    "    # 관심종목 목록 등록\n",
    "    for nowCode in useL:\n",
    "        time.sleep(0.5)\n",
    "        driver.find_element_by_css_selector(\"#mystock_input\").clear()\n",
    "        time.sleep(0.5)\n",
    "        driver.find_element_by_css_selector(\"#mystock_input\").send_keys(nowCode)\n",
    "        driver.find_element_by_css_selector(\"#mystock_input\").send_keys(Keys.RETURN)\n"
   ]
  },
  {
   "cell_type": "code",
   "execution_count": null,
   "metadata": {},
   "outputs": [],
   "source": []
  }
 ],
 "metadata": {
  "kernelspec": {
   "display_name": "Python 3",
   "language": "python",
   "name": "python3"
  },
  "language_info": {
   "codemirror_mode": {
    "name": "ipython",
    "version": 3
   },
   "file_extension": ".py",
   "mimetype": "text/x-python",
   "name": "python",
   "nbconvert_exporter": "python",
   "pygments_lexer": "ipython3",
   "version": "3.7.7"
  }
 },
 "nbformat": 4,
 "nbformat_minor": 4
}
